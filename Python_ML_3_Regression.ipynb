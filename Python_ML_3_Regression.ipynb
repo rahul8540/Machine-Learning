{
 "cells": [
  {
   "cell_type": "code",
   "execution_count": null,
   "metadata": {
    "id": "4erOIPgjeE02"
   },
   "outputs": [],
   "source": [
    "import numpy as np\n",
    "x = np.array([4,5.6,7,9.2,8])     #features\n",
    "y = np.array([5,7.6,8,9.3,7.8])   #labels"
   ]
  },
  {
   "cell_type": "code",
   "execution_count": null,
   "metadata": {
    "colab": {
     "base_uri": "https://localhost:8080/",
     "height": 265
    },
    "id": "qPYznS_3eTbX",
    "outputId": "59153424-0f85-4848-ec64-2a32b7f7045b"
   },
   "outputs": [
    {
     "data": {
      "image/png": "[encoded data removed]",
      "text/plain": [
       "<Figure size 432x288 with 1 Axes>"
      ]
     },
     "metadata": {
      "needs_background": "light"
     },
     "output_type": "display_data"
    }
   ],
   "source": [
    "import matplotlib.pyplot as plt\n",
    "plt.scatter(x,y)\n",
    "plt.show()"
   ]
  },
  {
   "cell_type": "code",
   "execution_count": null,
   "metadata": {
    "colab": {
     "base_uri": "https://localhost:8080/"
    },
    "id": "-xEA4mBlef3O",
    "outputId": "512b1754-25f3-430d-ddf3-749658b07558"
   },
   "outputs": [
    {
     "name": "stdout",
     "output_type": "stream",
     "text": [
      "[21.  27.4 33.  41.8 37. ]\n"
     ]
    }
   ],
   "source": [
    "w0 = 5\n",
    "w1 = 4\n",
    "yh = w0 + w1*x     #equation of linear line\n",
    "print(yh)"
   ]
  },
  {
   "cell_type": "code",
   "execution_count": null,
   "metadata": {
    "colab": {
     "base_uri": "https://localhost:8080/",
     "height": 265
    },
    "id": "tY60iETLfula",
    "outputId": "71f607a9-5513-4337-d122-bd4ad86efa6a"
   },
   "outputs": [
    {
     "data": {
      "image/png": "[encoded data removed]",
      "text/plain": [
       "<Figure size 432x288 with 1 Axes>"
      ]
     },
     "metadata": {
      "needs_background": "light"
     },
     "output_type": "display_data"
    }
   ],
   "source": [
    "plt.scatter(x,y)\n",
    "plt.plot(x,yh)\n",
    "\n",
    "plt.show()"
   ]
  },
  {
   "cell_type": "code",
   "execution_count": null,
   "metadata": {
    "colab": {
     "base_uri": "https://localhost:8080/"
    },
    "id": "vdV5t3Imflfz",
    "outputId": "f509783f-0fbf-4966-ec82-77e6dcae42fa"
   },
   "outputs": [
    {
     "name": "stdout",
     "output_type": "stream",
     "text": [
      "636.386\n"
     ]
    }
   ],
   "source": [
    "mean_squared_error = ((y-yh)**2).mean()\n",
    "print(mean_squared_error)"
   ]
  },
  {
   "cell_type": "code",
   "execution_count": null,
   "metadata": {
    "colab": {
     "base_uri": "https://localhost:8080/"
    },
    "id": "ncPSPwkefptp",
    "outputId": "b92e7b53-3791-43fc-b372-0febc04ae283"
   },
   "outputs": [
    {
     "name": "stdout",
     "output_type": "stream",
     "text": [
      "0.2954815999999969 0.4350399999999771\n"
     ]
    }
   ],
   "source": [
    "dew0 = -2*((y-yh)).mean()\n",
    "dew1 = -2*((y-yh)*x).mean()\n",
    "\n",
    "print(dew0,dew1)"
   ]
  },
  {
   "cell_type": "code",
   "execution_count": null,
   "metadata": {
    "id": "c9ZDL9GPmd2U"
   },
   "outputs": [],
   "source": [
    "lr = 0.01\n",
    "w0 = w0 - lr * dew0\n",
    "w1 = w1 - lr * dew1"
   ]
  },
  {
   "cell_type": "code",
   "execution_count": null,
   "metadata": {
    "colab": {
     "base_uri": "https://localhost:8080/"
    },
    "id": "35yR8XHsmpnd",
    "outputId": "57d489b9-9dec-48a7-fe53-205746caa21f"
   },
   "outputs": [
    {
     "name": "stdout",
     "output_type": "stream",
     "text": [
      "4.507045184 0.4657296000000001\n"
     ]
    }
   ],
   "source": [
    "print(w0,w1)"
   ]
  },
  {
   "cell_type": "code",
   "execution_count": null,
   "metadata": {
    "colab": {
     "base_uri": "https://localhost:8080/"
    },
    "id": "VwcWRdjFmrVX",
    "outputId": "84231c03-ee1f-4899-afc7-3d97f4a20950"
   },
   "outputs": [
    {
     "name": "stdout",
     "output_type": "stream",
     "text": [
      "0.5223626964082857\n"
     ]
    }
   ],
   "source": [
    "yh = w0 + w1*x   \n",
    "\n",
    "mean_squared_error = ((y-yh)**2).mean()\n",
    "print(mean_squared_error)"
   ]
  },
  {
   "cell_type": "code",
   "execution_count": null,
   "metadata": {
    "colab": {
     "base_uri": "https://localhost:8080/",
     "height": 265
    },
    "id": "Y4S8jG42myou",
    "outputId": "1b35b3dd-9be0-4e38-bf93-f1add60b957d"
   },
   "outputs": [
    {
     "data": {
      "image/png": "[encoded data removed]",
      "text/plain": [
       "<Figure size 432x288 with 1 Axes>"
      ]
     },
     "metadata": {
      "needs_background": "light"
     },
     "output_type": "display_data"
    }
   ],
   "source": [
    "plt.scatter(x,y)\n",
    "plt.plot(x,yh,'r')\n",
    "\n",
    "plt.show()"
   ]
  },
  {
   "cell_type": "code",
   "execution_count": null,
   "metadata": {
    "colab": {
     "base_uri": "https://localhost:8080/"
    },
    "id": "4tSFK5vqn5ih",
    "outputId": "8fe9a331-1cea-4e4d-b135-e9af4450ba2a"
   },
   "outputs": [
    {
     "name": "stdout",
     "output_type": "stream",
     "text": [
      "4.507045184 0.4657296000000001\n"
     ]
    }
   ],
   "source": [
    "print(w0,w1)"
   ]
  },
  {
   "cell_type": "code",
   "execution_count": null,
   "metadata": {
    "colab": {
     "base_uri": "https://localhost:8080/"
    },
    "id": "iGlQMaHdoFka",
    "outputId": "54527058-2e9e-4dbd-a853-07555e620ea8"
   },
   "outputs": [
    {
     "data": {
      "text/plain": [
       "7.767152384000001"
      ]
     },
     "execution_count": 41,
     "metadata": {},
     "output_type": "execute_result"
    }
   ],
   "source": [
    "7 * w1 + w0"
   ]
  },
  {
   "cell_type": "markdown",
   "metadata": {
    "id": "zNqN6oiXookV"
   },
   "source": [
    "#Advertising Data for Linear Regression"
   ]
  },
  {
   "cell_type": "code",
   "execution_count": null,
   "metadata": {
    "colab": {
     "base_uri": "https://localhost:8080/",
     "height": 206
    },
    "id": "QdOMQvzsoJJc",
    "outputId": "232f594d-f580-4910-d484-7b9d1e0bcd58"
   },
   "outputs": [
    {
     "data": {
      "text/html": [
       "\n",
       "  <div id=\"df-b0dccbdb-fb9a-46e2-a5b5-58e95eb94a16\">\n",
       "    <div class=\"colab-df-container\">\n",
       "      <div>\n",
       "<style scoped>\n",
       "    .dataframe tbody tr th:only-of-type {\n",
       "        vertical-align: middle;\n",
       "    }\n",
       "\n",
       "    .dataframe tbody tr th {\n",
       "        vertical-align: top;\n",
       "    }\n",
       "\n",
       "    .dataframe thead th {\n",
       "        text-align: right;\n",
       "    }\n",
       "</style>\n",
       "<table border=\"1\" class=\"dataframe\">\n",
       "  <thead>\n",
       "    <tr style=\"text-align: right;\">\n",
       "      <th></th>\n",
       "      <th>Unnamed: 0</th>\n",
       "      <th>TV</th>\n",
       "      <th>Radio</th>\n",
       "      <th>Newspaper</th>\n",
       "      <th>Sales</th>\n",
       "    </tr>\n",
       "  </thead>\n",
       "  <tbody>\n",
       "    <tr>\n",
       "      <th>0</th>\n",
       "      <td>1</td>\n",
       "      <td>230.1</td>\n",
       "      <td>37.8</td>\n",
       "      <td>69.2</td>\n",
       "      <td>22.1</td>\n",
       "    </tr>\n",
       "    <tr>\n",
       "      <th>1</th>\n",
       "      <td>2</td>\n",
       "      <td>44.5</td>\n",
       "      <td>39.3</td>\n",
       "      <td>45.1</td>\n",
       "      <td>10.4</td>\n",
       "    </tr>\n",
       "    <tr>\n",
       "      <th>2</th>\n",
       "      <td>3</td>\n",
       "      <td>17.2</td>\n",
       "      <td>45.9</td>\n",
       "      <td>69.3</td>\n",
       "      <td>9.3</td>\n",
       "    </tr>\n",
       "    <tr>\n",
       "      <th>3</th>\n",
       "      <td>4</td>\n",
       "      <td>151.5</td>\n",
       "      <td>41.3</td>\n",
       "      <td>58.5</td>\n",
       "      <td>18.5</td>\n",
       "    </tr>\n",
       "    <tr>\n",
       "      <th>4</th>\n",
       "      <td>5</td>\n",
       "      <td>180.8</td>\n",
       "      <td>10.8</td>\n",
       "      <td>58.4</td>\n",
       "      <td>12.9</td>\n",
       "    </tr>\n",
       "  </tbody>\n",
       "</table>\n",
       "</div>\n",
       "      <button class=\"colab-df-convert\" onclick=\"convertToInteractive('df-b0dccbdb-fb9a-46e2-a5b5-58e95eb94a16')\"\n",
       "              title=\"Convert this dataframe to an interactive table.\"\n",
       "              style=\"display:none;\">\n",
       "        \n",
       "  <svg xmlns=\"http://www.w3.org/2000/svg\" height=\"24px\"viewBox=\"0 0 24 24\"\n",
       "       width=\"24px\">\n",
       "    <path d=\"M0 0h24v24H0V0z\" fill=\"none\"/>\n",
       "    <path d=\"M18.56 5.44l.94 2.06.94-2.06 2.06-.94-2.06-.94-.94-2.06-.94 2.06-2.06.94zm-11 1L8.5 8.5l.94-2.06 2.06-.94-2.06-.94L8.5 2.5l-.94 2.06-2.06.94zm10 10l.94 2.06.94-2.06 2.06-.94-2.06-.94-.94-2.06-.94 2.06-2.06.94z\"/><path d=\"M17.41 7.96l-1.37-1.37c-.4-.4-.92-.59-1.43-.59-.52 0-1.04.2-1.43.59L10.3 9.45l-7.72 7.72c-.78.78-.78 2.05 0 2.83L4 21.41c.39.39.9.59 1.41.59.51 0 1.02-.2 1.41-.59l7.78-7.78 2.81-2.81c.8-.78.8-2.07 0-2.86zM5.41 20L4 18.59l7.72-7.72 1.47 1.35L5.41 20z\"/>\n",
       "  </svg>\n",
       "      </button>\n",
       "      \n",
       "  <style>\n",
       "    .colab-df-container {\n",
       "      display:flex;\n",
       "      flex-wrap:wrap;\n",
       "      gap: 12px;\n",
       "    }\n",
       "\n",
       "    .colab-df-convert {\n",
       "      background-color: #E8F0FE;\n",
       "      border: none;\n",
       "      border-radius: 50%;\n",
       "      cursor: pointer;\n",
       "      display: none;\n",
       "      fill: #1967D2;\n",
       "      height: 32px;\n",
       "      padding: 0 0 0 0;\n",
       "      width: 32px;\n",
       "    }\n",
       "\n",
       "    .colab-df-convert:hover {\n",
       "      background-color: #E2EBFA;\n",
       "      box-shadow: 0px 1px 2px rgba(60, 64, 67, 0.3), 0px 1px 3px 1px rgba(60, 64, 67, 0.15);\n",
       "      fill: #174EA6;\n",
       "    }\n",
       "\n",
       "    [theme=dark] .colab-df-convert {\n",
       "      background-color: #3B4455;\n",
       "      fill: #D2E3FC;\n",
       "    }\n",
       "\n",
       "    [theme=dark] .colab-df-convert:hover {\n",
       "      background-color: #434B5C;\n",
       "      box-shadow: 0px 1px 3px 1px rgba(0, 0, 0, 0.15);\n",
       "      filter: drop-shadow(0px 1px 2px rgba(0, 0, 0, 0.3));\n",
       "      fill: #FFFFFF;\n",
       "    }\n",
       "  </style>\n",
       "\n",
       "      <script>\n",
       "        const buttonEl =\n",
       "          document.querySelector('#df-b0dccbdb-fb9a-46e2-a5b5-58e95eb94a16 button.colab-df-convert');\n",
       "        buttonEl.style.display =\n",
       "          google.colab.kernel.accessAllowed ? 'block' : 'none';\n",
       "\n",
       "        async function convertToInteractive(key) {\n",
       "          const element = document.querySelector('#df-b0dccbdb-fb9a-46e2-a5b5-58e95eb94a16');\n",
       "          const dataTable =\n",
       "            await google.colab.kernel.invokeFunction('convertToInteractive',\n",
       "                                                     [key], {});\n",
       "          if (!dataTable) return;\n",
       "\n",
       "          const docLinkHtml = 'Like what you see? Visit the ' +\n",
       "            '<a target=\"_blank\" href=https://colab.research.google.com/notebooks/data_table.ipynb>data table notebook</a>'\n",
       "            + ' to learn more about interactive tables.';\n",
       "          element.innerHTML = '';\n",
       "          dataTable['output_type'] = 'display_data';\n",
       "          await google.colab.output.renderOutput(dataTable, element);\n",
       "          const docLink = document.createElement('div');\n",
       "          docLink.innerHTML = docLinkHtml;\n",
       "          element.appendChild(docLink);\n",
       "        }\n",
       "      </script>\n",
       "    </div>\n",
       "  </div>\n",
       "  "
      ],
      "text/plain": [
       "   Unnamed: 0     TV  Radio  Newspaper  Sales\n",
       "0           1  230.1   37.8       69.2   22.1\n",
       "1           2   44.5   39.3       45.1   10.4\n",
       "2           3   17.2   45.9       69.3    9.3\n",
       "3           4  151.5   41.3       58.5   18.5\n",
       "4           5  180.8   10.8       58.4   12.9"
      ]
     },
     "execution_count": 42,
     "metadata": {},
     "output_type": "execute_result"
    }
   ],
   "source": [
    "import pandas as pd\n",
    "df = pd.read_csv('Adv.csv')\n",
    "df.head()"
   ]
  },
  {
   "cell_type": "code",
   "execution_count": null,
   "metadata": {
    "id": "vFjhjjFLozXp"
   },
   "outputs": [],
   "source": [
    "X = df[['TV','Radio']].values\n",
    "Y = df[['Sales']].values"
   ]
  },
  {
   "cell_type": "code",
   "execution_count": null,
   "metadata": {
    "colab": {
     "base_uri": "https://localhost:8080/"
    },
    "id": "H4UJqODQvmv6",
    "outputId": "578e980c-c043-4ae2-e624-cc3977e1b7dc"
   },
   "outputs": [
    {
     "data": {
      "text/plain": [
       "array([[230.1,  37.8],\n",
       "       [ 44.5,  39.3],\n",
       "       [ 17.2,  45.9],\n",
       "       [151.5,  41.3],\n",
       "       [180.8,  10.8],\n",
       "       [  8.7,  48.9],\n",
       "       [ 57.5,  32.8],\n",
       "       [120.2,  19.6],\n",
       "       [  8.6,   2.1],\n",
       "       [199.8,   2.6],\n",
       "       [ 66.1,   5.8],\n",
       "       [214.7,  24. ],\n",
       "       [ 23.8,  35.1],\n",
       "       [ 97.5,   7.6],\n",
       "       [204.1,  32.9],\n",
       "       [195.4,  47.7],\n",
       "       [ 67.8,  36.6],\n",
       "       [281.4,  39.6],\n",
       "       [ 69.2,  20.5],\n",
       "       [147.3,  23.9],\n",
       "       [218.4,  27.7],\n",
       "       [237.4,   5.1],\n",
       "       [ 13.2,  15.9],\n",
       "       [228.3,  16.9],\n",
       "       [ 62.3,  12.6],\n",
       "       [262.9,   3.5],\n",
       "       [142.9,  29.3],\n",
       "       [240.1,  16.7],\n",
       "       [248.8,  27.1],\n",
       "       [ 70.6,  16. ],\n",
       "       [292.9,  28.3],\n",
       "       [112.9,  17.4],\n",
       "       [ 97.2,   1.5],\n",
       "       [265.6,  20. ],\n",
       "       [ 95.7,   1.4],\n",
       "       [290.7,   4.1],\n",
       "       [266.9,  43.8],\n",
       "       [ 74.7,  49.4],\n",
       "       [ 43.1,  26.7],\n",
       "       [228. ,  37.7],\n",
       "       [202.5,  22.3],\n",
       "       [177. ,  33.4],\n",
       "       [293.6,  27.7],\n",
       "       [206.9,   8.4],\n",
       "       [ 25.1,  25.7],\n",
       "       [175.1,  22.5],\n",
       "       [ 89.7,   9.9],\n",
       "       [239.9,  41.5],\n",
       "       [227.2,  15.8],\n",
       "       [ 66.9,  11.7],\n",
       "       [199.8,   3.1],\n",
       "       [100.4,   9.6],\n",
       "       [216.4,  41.7],\n",
       "       [182.6,  46.2],\n",
       "       [262.7,  28.8],\n",
       "       [198.9,  49.4],\n",
       "       [  7.3,  28.1],\n",
       "       [136.2,  19.2],\n",
       "       [210.8,  49.6],\n",
       "       [210.7,  29.5],\n",
       "       [ 53.5,   2. ],\n",
       "       [261.3,  42.7],\n",
       "       [239.3,  15.5],\n",
       "       [102.7,  29.6],\n",
       "       [131.1,  42.8],\n",
       "       [ 69. ,   9.3],\n",
       "       [ 31.5,  24.6],\n",
       "       [139.3,  14.5],\n",
       "       [237.4,  27.5],\n",
       "       [216.8,  43.9],\n",
       "       [199.1,  30.6],\n",
       "       [109.8,  14.3],\n",
       "       [ 26.8,  33. ],\n",
       "       [129.4,   5.7],\n",
       "       [213.4,  24.6],\n",
       "       [ 16.9,  43.7],\n",
       "       [ 27.5,   1.6],\n",
       "       [120.5,  28.5],\n",
       "       [  5.4,  29.9],\n",
       "       [116. ,   7.7],\n",
       "       [ 76.4,  26.7],\n",
       "       [239.8,   4.1],\n",
       "       [ 75.3,  20.3],\n",
       "       [ 68.4,  44.5],\n",
       "       [213.5,  43. ],\n",
       "       [193.2,  18.4],\n",
       "       [ 76.3,  27.5],\n",
       "       [110.7,  40.6],\n",
       "       [ 88.3,  25.5],\n",
       "       [109.8,  47.8],\n",
       "       [134.3,   4.9],\n",
       "       [ 28.6,   1.5],\n",
       "       [217.7,  33.5],\n",
       "       [250.9,  36.5],\n",
       "       [107.4,  14. ],\n",
       "       [163.3,  31.6],\n",
       "       [197.6,   3.5],\n",
       "       [184.9,  21. ],\n",
       "       [289.7,  42.3],\n",
       "       [135.2,  41.7],\n",
       "       [222.4,   4.3],\n",
       "       [296.4,  36.3],\n",
       "       [280.2,  10.1],\n",
       "       [187.9,  17.2],\n",
       "       [238.2,  34.3],\n",
       "       [137.9,  46.4],\n",
       "       [ 25. ,  11. ],\n",
       "       [ 90.4,   0.3],\n",
       "       [ 13.1,   0.4],\n",
       "       [255.4,  26.9],\n",
       "       [225.8,   8.2],\n",
       "       [241.7,  38. ],\n",
       "       [175.7,  15.4],\n",
       "       [209.6,  20.6],\n",
       "       [ 78.2,  46.8],\n",
       "       [ 75.1,  35. ],\n",
       "       [139.2,  14.3],\n",
       "       [ 76.4,   0.8],\n",
       "       [125.7,  36.9],\n",
       "       [ 19.4,  16. ],\n",
       "       [141.3,  26.8],\n",
       "       [ 18.8,  21.7],\n",
       "       [224. ,   2.4],\n",
       "       [123.1,  34.6],\n",
       "       [229.5,  32.3],\n",
       "       [ 87.2,  11.8],\n",
       "       [  7.8,  38.9],\n",
       "       [ 80.2,   0. ],\n",
       "       [220.3,  49. ],\n",
       "       [ 59.6,  12. ],\n",
       "       [  0.7,  39.6],\n",
       "       [265.2,   2.9],\n",
       "       [  8.4,  27.2],\n",
       "       [219.8,  33.5],\n",
       "       [ 36.9,  38.6],\n",
       "       [ 48.3,  47. ],\n",
       "       [ 25.6,  39. ],\n",
       "       [273.7,  28.9],\n",
       "       [ 43. ,  25.9],\n",
       "       [184.9,  43.9],\n",
       "       [ 73.4,  17. ],\n",
       "       [193.7,  35.4],\n",
       "       [220.5,  33.2],\n",
       "       [104.6,   5.7],\n",
       "       [ 96.2,  14.8],\n",
       "       [140.3,   1.9],\n",
       "       [240.1,   7.3],\n",
       "       [243.2,  49. ],\n",
       "       [ 38. ,  40.3],\n",
       "       [ 44.7,  25.8],\n",
       "       [280.7,  13.9],\n",
       "       [121. ,   8.4],\n",
       "       [197.6,  23.3],\n",
       "       [171.3,  39.7],\n",
       "       [187.8,  21.1],\n",
       "       [  4.1,  11.6],\n",
       "       [ 93.9,  43.5],\n",
       "       [149.8,   1.3],\n",
       "       [ 11.7,  36.9],\n",
       "       [131.7,  18.4],\n",
       "       [172.5,  18.1],\n",
       "       [ 85.7,  35.8],\n",
       "       [188.4,  18.1],\n",
       "       [163.5,  36.8],\n",
       "       [117.2,  14.7],\n",
       "       [234.5,   3.4],\n",
       "       [ 17.9,  37.6],\n",
       "       [206.8,   5.2],\n",
       "       [215.4,  23.6],\n",
       "       [284.3,  10.6],\n",
       "       [ 50. ,  11.6],\n",
       "       [164.5,  20.9],\n",
       "       [ 19.6,  20.1],\n",
       "       [168.4,   7.1],\n",
       "       [222.4,   3.4],\n",
       "       [276.9,  48.9],\n",
       "       [248.4,  30.2],\n",
       "       [170.2,   7.8],\n",
       "       [276.7,   2.3],\n",
       "       [165.6,  10. ],\n",
       "       [156.6,   2.6],\n",
       "       [218.5,   5.4],\n",
       "       [ 56.2,   5.7],\n",
       "       [287.6,  43. ],\n",
       "       [253.8,  21.3],\n",
       "       [205. ,  45.1],\n",
       "       [139.5,   2.1],\n",
       "       [191.1,  28.7],\n",
       "       [286. ,  13.9],\n",
       "       [ 18.7,  12.1],\n",
       "       [ 39.5,  41.1],\n",
       "       [ 75.5,  10.8],\n",
       "       [ 17.2,   4.1],\n",
       "       [166.8,  42. ],\n",
       "       [149.7,  35.6],\n",
       "       [ 38.2,   3.7],\n",
       "       [ 94.2,   4.9],\n",
       "       [177. ,   9.3],\n",
       "       [283.6,  42. ],\n",
       "       [232.1,   8.6]])"
      ]
     },
     "execution_count": 60,
     "metadata": {},
     "output_type": "execute_result"
    }
   ],
   "source": [
    "X"
   ]
  },
  {
   "cell_type": "code",
   "execution_count": null,
   "metadata": {
    "colab": {
     "base_uri": "https://localhost:8080/"
    },
    "id": "XUs4vDF1sf6V",
    "outputId": "9866c1bc-7469-408a-bd07-69f0347647da"
   },
   "outputs": [
    {
     "name": "stdout",
     "output_type": "stream",
     "text": [
      "1833411.8948\n"
     ]
    }
   ],
   "source": [
    "w0 = 6\n",
    "w1 = 7\n",
    "w2 = 8\n",
    "yh = w0 + w1 * X[:,0:1] + w2*X[:,1:2]\n",
    "\n",
    "error = ((Y-yh)**2).mean()\n",
    "print(error)"
   ]
  },
  {
   "cell_type": "code",
   "execution_count": null,
   "metadata": {
    "colab": {
     "base_uri": "https://localhost:8080/"
    },
    "id": "Cuv_vWK9st28",
    "outputId": "a419bc0e-6b01-48ce-995b-42d72f3535fb"
   },
   "outputs": [
    {
     "name": "stdout",
     "output_type": "stream",
     "text": [
      "2414.7740000000003 458166.67230000003 60570.871499999994\n"
     ]
    }
   ],
   "source": [
    "dew0 = -2 * ((Y-yh)).mean()\n",
    "dew1 = -2 * ((Y-yh) * X[:,0:1]).mean()\n",
    "dew2 = -2 * ((Y-yh) * X[:,1:2]).mean()\n",
    "\n",
    "print(dew0,dew1,dew2)"
   ]
  },
  {
   "cell_type": "code",
   "execution_count": null,
   "metadata": {
    "colab": {
     "base_uri": "https://localhost:8080/"
    },
    "id": "hlmjHJ2ds6ra",
    "outputId": "715e9395-c2c4-4ff1-9be6-22b4a8750c5a"
   },
   "outputs": [
    {
     "name": "stdout",
     "output_type": "stream",
     "text": [
      "325009.06431568996\n"
     ]
    }
   ],
   "source": [
    "lr = 1e-5\n",
    "w0 = w0 - lr*dew0\n",
    "w1 = w1 - lr*dew1\n",
    "w2 = w2 - lr*dew2\n",
    "\n",
    "yh = w0 + w1 * X[:,0:1] + w2*X[:,1:2]\n",
    "\n",
    "error = ((Y-yh)**2).mean()\n",
    "print(error)"
   ]
  },
  {
   "cell_type": "code",
   "execution_count": null,
   "metadata": {
    "colab": {
     "base_uri": "https://localhost:8080/"
    },
    "id": "hmKbnMrftLT5",
    "outputId": "502b4c62-bc0e-46f5-a0ca-380500fc2a87"
   },
   "outputs": [
    {
     "name": "stdout",
     "output_type": "stream",
     "text": [
      "0 4.517097767221217\n",
      "1 4.51252823433647\n",
      "2 4.508019603016842\n",
      "3 4.503571059969804\n",
      "4 4.499181802763727\n",
      "5 4.494851039682828\n",
      "6 4.490577989584081\n",
      "7 4.48636188175602\n",
      "8 4.482201955779433\n",
      "9 4.478097461389922\n",
      "10 4.474047658342288\n",
      "11 4.470051816276733\n",
      "12 4.4661092145868535\n",
      "13 4.462219142289382\n",
      "14 4.4583808978956885\n",
      "15 4.454593789284974\n",
      "16 4.450857133579188\n",
      "17 4.447170257019576\n",
      "18 4.44353249484492\n",
      "19 4.4399431911713725\n",
      "20 4.436401698873905\n",
      "21 4.432907379469343\n",
      "22 4.429459603000968\n",
      "23 4.426057747924636\n",
      "24 4.4227012009964515\n",
      "25 4.419389357161916\n",
      "26 4.4161216194465664\n",
      "27 4.41289739884807\n",
      "28 4.409716114229764\n",
      "29 4.40657719221562\n",
      "30 4.403480067086601\n",
      "31 4.400424180678411\n",
      "32 4.397408982280607\n",
      "33 4.394433928537054\n",
      "34 4.391498483347727\n",
      "35 4.388602117771794\n",
      "36 4.385744309932021\n",
      "37 4.382924544920442\n",
      "38 4.3801423147052905\n",
      "39 4.377397118039166\n",
      "40 4.374688460368447\n",
      "41 4.3720158537438865\n",
      "42 4.369378816732426\n",
      "43 4.3667768743301725\n",
      "44 4.36420955787654\n",
      "45 4.361676404969549\n",
      "46 4.359176959382233\n",
      "47 4.3567107709801896\n",
      "48 4.35427739564021\n",
      "49 4.351876395170011\n",
      "50 4.349507337229024\n",
      "51 4.3471697952502595\n",
      "52 4.344863348363194\n",
      "53 4.342587581317712\n",
      "54 4.340342084409035\n",
      "55 4.338126453403679\n",
      "56 4.335940289466387\n",
      "57 4.333783199088034\n",
      "58 4.33165479401451\n",
      "59 4.329554691176533\n",
      "60 4.327482512620418\n",
      "61 4.325437885439764\n",
      "62 4.323420441708037\n",
      "63 4.321429818412084\n",
      "64 4.319465657386511\n",
      "65 4.3175276052489435\n",
      "66 4.315615313336159\n",
      "67 4.313728437641061\n",
      "68 4.3118666387505\n",
      "69 4.310029581783928\n",
      "70 4.308216936332871\n",
      "71 4.3064283764012\n",
      "72 4.304663580346214\n",
      "73 4.302922230820502\n",
      "74 4.301204014714582\n",
      "75 4.299508623100307\n",
      "76 4.297835751175026\n",
      "77 4.296185098206494\n",
      "78 4.294556367478509\n",
      "79 4.292949266237287\n",
      "80 4.291363505638544\n",
      "81 4.289798800695289\n",
      "82 4.288254870226309\n",
      "83 4.2867314368053515\n",
      "84 4.285228226710975\n",
      "85 4.2837449698770795\n",
      "86 4.282281399844084\n",
      "87 4.280837253710775\n",
      "88 4.279412272086778\n",
      "89 4.278006199045672\n",
      "90 4.276618782078746\n",
      "91 4.275249772049339\n",
      "92 4.273898923147822\n",
      "93 4.27256599284716\n",
      "94 4.271250741859082\n",
      "95 4.269952934090826\n",
      "96 4.268672336602465\n",
      "97 4.267408719564807\n",
      "98 4.266161856217849\n",
      "99 4.264931522829794\n",
      "100 4.263717498656608\n",
      "101 4.262519565902127\n",
      "102 4.26133750967868\n",
      "103 4.260171117968262\n",
      "104 4.259020181584201\n",
      "105 4.257884494133348\n",
      "106 4.25676385197878\n",
      "107 4.255658054202987\n",
      "108 4.254566902571554\n",
      "109 4.2534902014973355\n",
      "110 4.252427758005102\n",
      "111 4.251379381696657\n",
      "112 4.250344884716424\n",
      "113 4.2493240817174955\n",
      "114 4.248316789828127\n",
      "115 4.247322828618685\n",
      "116 4.246342020069035\n",
      "117 4.245374188536359\n",
      "118 4.244419160723422\n",
      "119 4.24347676564723\n",
      "120 4.2425468346081425\n",
      "121 4.241629201159366\n",
      "122 4.240723701076881\n",
      "123 4.2398301723297465\n",
      "124 4.238948455050826\n",
      "125 4.238078391507879\n",
      "126 4.237219826075062\n",
      "127 4.236372605204792\n",
      "128 4.235536577399995\n",
      "129 4.234711593186725\n",
      "130 4.233897505087143\n",
      "131 4.233094167592862\n",
      "132 4.2323014371386485\n",
      "133 4.231519172076474\n",
      "134 4.230747232649905\n",
      "135 4.229985480968851\n",
      "136 4.229233780984634\n",
      "137 4.228491998465405\n",
      "138 4.2277600009718705\n",
      "139 4.2270376578333675\n",
      "140 4.22632484012424\n",
      "141 4.22562142064053\n",
      "142 4.224927273876989\n",
      "143 4.2242422760044\n",
      "144 4.223566304847184\n",
      "145 4.222899239861325\n",
      "146 4.222240962112577\n",
      "147 4.221591354254972\n",
      "148 4.220950300509607\n",
      "149 4.220317686643708\n",
      "150 4.219693399950005\n",
      "151 4.219077329226336\n",
      "152 4.218469364755564\n",
      "153 4.217869398285735\n",
      "154 4.217277323010518\n",
      "155 4.216693033549898\n",
      "156 4.216116425931131\n",
      "157 4.215547397569946\n",
      "158 4.214985847252002\n",
      "159 4.214431675114605\n",
      "160 4.213884782628646\n",
      "161 4.213345072580794\n",
      "162 4.212812449055933\n",
      "163 4.212286817419812\n",
      "164 4.211768084301952\n",
      "165 4.211256157578763\n",
      "166 4.210750946356895\n",
      "167 4.210252360956807\n",
      "168 4.209760312896562\n",
      "169 4.209274714875827\n",
      "170 4.208795480760099\n",
      "171 4.208322525565136\n",
      "172 4.207855765441592\n",
      "173 4.207395117659868\n",
      "174 4.20694050059515\n",
      "175 4.206491833712664\n",
      "176 4.206049037553117\n",
      "177 4.205612033718329\n",
      "178 4.20518074485707\n",
      "179 4.204755094651073\n",
      "180 4.204335007801245\n",
      "181 4.203920410014053\n",
      "182 4.203511227988102\n",
      "183 4.20310738940087\n",
      "184 4.202708822895656\n",
      "185 4.202315458068665\n",
      "186 4.2019272254562985\n",
      "187 4.201544056522581\n",
      "188 4.201165883646789\n",
      "189 4.200792640111221\n",
      "190 4.200424260089136\n",
      "191 4.200060678632861\n",
      "192 4.1997018316620425\n",
      "193 4.199347655952081\n",
      "194 4.198998089122686\n",
      "195 4.198653069626606\n",
      "196 4.198312536738512\n",
      "197 4.197976430544007\n",
      "198 4.1976446919288115\n",
      "199 4.197317262568069\n",
      "200 4.1969940849158025\n",
      "201 4.196675102194523\n",
      "202 4.1963602583849555\n",
      "203 4.196049498215925\n",
      "204 4.195742767154356\n",
      "205 4.19544001139542\n",
      "206 4.195141177852813\n",
      "207 4.1948462141491545\n",
      "208 4.194555068606527\n",
      "209 4.19426769023713\n",
      "210 4.1939840287340635\n",
      "211 4.19370403446224\n",
      "212 4.193427658449408\n",
      "213 4.1931548523773055\n",
      "214 4.192885568572921\n",
      "215 4.1926197599998805\n",
      "216 4.192357380249944\n",
      "217 4.192098383534617\n",
      "218 4.191842724676875\n",
      "219 4.191590359103\n",
      "220 4.19134124283452\n",
      "221 4.19109533248026\n",
      "222 4.190852585228502\n",
      "223 4.190612958839246\n",
      "224 4.1903764116365725\n",
      "225 4.190142902501114\n",
      "226 4.18991239086262\n",
      "227 4.1896848366926225\n",
      "228 4.189460200497203\n",
      "229 4.189238443309859\n",
      "230 4.189019526684445\n",
      "231 4.188803412688245\n",
      "232 4.188590063895099\n",
      "233 4.188379443378644\n",
      "234 4.188171514705645\n",
      "235 4.187966241929399\n",
      "236 4.187763589583244\n",
      "237 4.187563522674155\n",
      "238 4.1873660066764025\n",
      "239 4.187171007525327\n",
      "240 4.186978491611174\n",
      "241 4.186788425773022\n",
      "242 4.186600777292787\n",
      "243 4.186415513889311\n",
      "244 4.186232603712527\n",
      "245 4.1860520153376966\n",
      "246 4.1858737177597405\n",
      "247 4.185697680387623\n",
      "248 4.185523873038829\n",
      "249 4.18535226593391\n",
      "250 4.1851828296911\n",
      "251 4.185015535320998\n",
      "252 4.184850354221339\n",
      "253 4.1846872581718175\n",
      "254 4.184526219328989\n",
      "255 4.184367210221234\n",
      "256 4.1842102037438\n",
      "257 4.184055173153892\n",
      "258 4.183902092065849\n",
      "259 4.183750934446369\n",
      "260 4.183601674609803\n",
      "261 4.1834542872135145\n",
      "262 4.1833087472532995\n",
      "263 4.183165030058864\n",
      "264 4.183023111289367\n",
      "265 4.182882966929025\n",
      "266 4.182744573282759\n",
      "267 4.182607906971924\n",
      "268 4.182472944930082\n",
      "269 4.182339664398821\n",
      "270 4.1822080429236586\n",
      "271 4.182078058349967\n",
      "272 4.181949688818983\n",
      "273 4.181822912763845\n",
      "274 4.181697708905703\n",
      "275 4.181574056249869\n",
      "276 4.181451934082023\n",
      "277 4.18133132196447\n",
      "278 4.181212199732442\n",
      "279 4.1810945474904555\n",
      "280 4.180978345608719\n",
      "281 4.180863574719581\n",
      "282 4.180750215714028\n",
      "283 4.180638249738233\n",
      "284 4.180527658190149\n",
      "285 4.180418422716142\n",
      "286 4.18031052520768\n",
      "287 4.180203947798056\n",
      "288 4.180098672859154\n",
      "289 4.179994682998277\n",
      "290 4.179891961054986\n",
      "291 4.179790490098007\n",
      "292 4.1796902534221765\n",
      "293 4.179591234545409\n",
      "294 4.179493417205728\n",
      "295 4.179396785358319\n",
      "296 4.17930132317264\n",
      "297 4.17920701502955\n",
      "298 4.179113845518486\n",
      "299 4.179021799434689\n",
      "300 4.178930861776441\n",
      "301 4.178841017742364\n",
      "302 4.178752252728741\n",
      "303 4.1786645523268735\n",
      "304 4.178577902320481\n",
      "305 4.178492288683135\n",
      "306 4.178407697575711\n",
      "307 4.178324115343904\n",
      "308 4.178241528515744\n",
      "309 4.178159923799174\n",
      "310 4.178079288079637\n",
      "311 4.177999608417718\n",
      "312 4.177920872046791\n",
      "313 4.177843066370724\n",
      "314 4.177766178961591\n",
      "315 4.177690197557437\n",
      "316 4.177615110060051\n",
      "317 4.177540904532787\n",
      "318 4.177467569198401\n",
      "319 4.177395092436931\n",
      "320 4.177323462783583\n",
      "321 4.177252668926673\n",
      "322 4.177182699705572\n",
      "323 4.177113544108692\n",
      "324 4.177045191271498\n",
      "325 4.176977630474544\n",
      "326 4.176910851141531\n",
      "327 4.176844842837398\n",
      "328 4.1767795952664395\n",
      "329 4.176715098270437\n",
      "330 4.176651341826831\n",
      "331 4.176588316046905\n",
      "332 4.176526011173995\n",
      "333 4.176464417581732\n",
      "334 4.176403525772304\n",
      "335 4.176343326374726\n",
      "336 4.176283810143161\n",
      "337 4.176224967955246\n",
      "338 4.1761667908104325\n",
      "339 4.1761092698283715\n",
      "340 4.1760523962473055\n",
      "341 4.1759961614224785\n",
      "342 4.175940556824585\n",
      "343 4.175885574038218\n",
      "344 4.17583120476035\n",
      "345 4.175777440798838\n",
      "346 4.175724274070939\n",
      "347 4.175671696601842\n",
      "348 4.175619700523243\n",
      "349 4.175568278071906\n",
      "350 4.17551742158827\n",
      "351 4.17546712351506\n",
      "352 4.175417376395925\n",
      "353 4.175368172874084\n",
      "354 4.175319505691004\n",
      "355 4.175271367685083\n",
      "356 4.175223751790354\n",
      "357 4.175176651035215\n",
      "358 4.17513005854116\n",
      "359 4.175083967521543\n",
      "360 4.175038371280348\n",
      "361 4.174993263210976\n",
      "362 4.174948636795062\n",
      "363 4.174904485601277\n",
      "364 4.174860803284187\n",
      "365 4.174817583583095\n",
      "366 4.174774820320905\n",
      "367 4.174732507403016\n",
      "368 4.174690638816219\n",
      "369 4.174649208627597\n",
      "370 4.174608210983472\n",
      "371 4.174567640108331\n",
      "372 4.1745274903037926\n",
      "373 4.17448775594757\n",
      "374 4.174448431492461\n",
      "375 4.174409511465339\n",
      "376 4.174370990466168\n",
      "377 4.174332863167025\n",
      "378 4.174295124311135\n",
      "379 4.174257768711928\n",
      "380 4.174220791252093\n",
      "381 4.174184186882659\n",
      "382 4.174147950622078\n",
      "383 4.174112077555329\n",
      "384 4.174076562833023\n",
      "385 4.174041401670537\n",
      "386 4.1740065893471385\n",
      "387 4.173972121205137\n",
      "388 4.173937992649044\n",
      "389 4.173904199144738\n",
      "390 4.1738707362186505\n",
      "391 4.173837599456949\n",
      "392 4.173804784504747\n",
      "393 4.173772287065317\n",
      "394 4.173740102899305\n",
      "395 4.173708227823975\n",
      "396 4.173676657712447\n",
      "397 4.17364538849295\n",
      "398 4.173614416148094\n",
      "399 4.173583736714131\n",
      "400 4.173553346280251\n",
      "401 4.1735232409878655\n",
      "402 4.173493417029918\n",
      "403 4.173463870650194\n",
      "404 4.1734345981426335\n",
      "405 4.173405595850677\n",
      "406 4.173376860166586\n",
      "407 4.173348387530807\n",
      "408 4.17332017443132\n",
      "409 4.173292217403006\n",
      "410 4.173264513027018\n",
      "411 4.173237057930166\n",
      "412 4.173209848784306\n",
      "413 4.173182882305741\n",
      "414 4.173156155254622\n",
      "415 4.173129664434368\n",
      "416 4.173103406691086\n",
      "417 4.173077378912996\n",
      "418 4.173051578029883\n",
      "419 4.173026001012523\n",
      "420 4.173000644872149\n",
      "421 4.172975506659906\n",
      "422 4.172950583466318\n",
      "423 4.172925872420765\n",
      "424 4.172901370690962\n",
      "425 4.172877075482443\n",
      "426 4.172852984038063\n",
      "427 4.172829093637498\n",
      "428 4.172805401596746\n",
      "429 4.172781905267657\n",
      "430 4.172758602037434\n",
      "431 4.172735489328181\n",
      "432 4.172712564596424\n",
      "433 4.172689825332653\n",
      "434 4.172667269060877\n",
      "435 4.172644893338161\n",
      "436 4.172622695754202\n",
      "437 4.17260067393088\n",
      "438 4.172578825521835\n",
      "439 4.172557148212037\n",
      "440 4.172535639717378\n",
      "441 4.172514297784246\n",
      "442 4.172493120189128\n",
      "443 4.172472104738206\n",
      "444 4.172451249266951\n",
      "445 4.172430551639748\n",
      "446 4.172410009749498\n",
      "447 4.172389621517241\n",
      "448 4.172369384891778\n",
      "449 4.172349297849305\n",
      "450 4.172329358393044\n",
      "451 4.17230956455288\n",
      "452 4.172289914385011\n",
      "453 4.17227040597159\n",
      "454 4.172251037420382\n",
      "455 4.172231806864422\n",
      "456 4.172212712461676\n",
      "457 4.17219375239471\n",
      "458 4.17217492487036\n",
      "459 4.172156228119409\n",
      "460 4.172137660396265\n",
      "461 4.172119219978647\n",
      "462 4.172100905167277\n",
      "463 4.172082714285563\n",
      "464 4.17206464567931\n",
      "465 4.172046697716409\n",
      "466 4.172028868786548\n",
      "467 4.1720111573009175\n",
      "468 4.171993561691929\n",
      "469 4.171976080412925\n",
      "470 4.171958711937903\n",
      "471 4.17194145476124\n",
      "472 4.171924307397419\n",
      "473 4.171907268380759\n",
      "474 4.1718903362651565\n",
      "475 4.171873509623814\n",
      "476 4.171856787048992\n",
      "477 4.17184016715175\n",
      "478 4.171823648561692\n",
      "479 4.171807229926728\n",
      "480 4.1717909099128185\n",
      "481 4.171774687203743\n",
      "482 4.171758560500859\n",
      "483 4.17174252852286\n",
      "484 4.171726590005559\n",
      "485 4.171710743701643\n",
      "486 4.171694988380463\n",
      "487 4.171679322827799\n",
      "488 4.17166374584565\n",
      "489 4.171648256252011\n",
      "490 4.17163285288066\n",
      "491 4.171617534580954\n",
      "492 4.171602300217611\n",
      "493 4.171587148670513\n",
      "494 4.1715720788345\n",
      "495 4.171557089619171\n",
      "496 4.1715421799486805\n",
      "497 4.171527348761559\n",
      "498 4.171512595010508\n",
      "499 4.1714979176622125\n",
      "500 4.1714833156971585\n",
      "501 4.171468788109452\n",
      "502 4.171454333906622\n",
      "503 4.17143995210946\n",
      "504 4.171425641751828\n",
      "505 4.171411401880493\n",
      "506 4.171397231554953\n",
      "507 4.171383129847261\n",
      "508 4.171369095841866\n",
      "509 4.171355128635443\n",
      "510 4.171341227336728\n",
      "511 4.171327391066362\n",
      "512 4.171313618956727\n",
      "513 4.171299910151793\n",
      "514 4.1712862638069605\n",
      "515 4.17127267908891\n",
      "516 4.171259155175446\n",
      "517 4.17124569125536\n",
      "518 4.171232286528271\n",
      "519 4.171218940204492\n",
      "520 4.171205651504874\n",
      "521 4.1711924196606756\n",
      "522 4.1711792439134285\n",
      "523 4.171166123514782\n",
      "524 4.171153057726388\n",
      "525 4.17114004581975\n",
      "526 4.171127087076111\n",
      "527 4.1711141807863035\n",
      "528 4.171101326250633\n",
      "529 4.171088522778748\n",
      "530 4.171075769689519\n",
      "531 4.17106306631091\n",
      "532 4.171050411979859\n",
      "533 4.171037806042163\n",
      "534 4.171025247852349\n",
      "535 4.171012736773566\n",
      "536 4.171000272177473\n",
      "537 4.170987853444111\n",
      "538 4.1709754799618075\n",
      "539 4.170963151127057\n",
      "540 4.170950866344408\n",
      "541 4.170938625026366\n",
      "542 4.170926426593282\n",
      "543 4.1709142704732445\n",
      "544 4.170902156101983\n",
      "545 4.170890082922762\n",
      "546 4.170878050386276\n",
      "547 4.170866057950563\n",
      "548 4.17085410508089\n",
      "549 4.170842191249672\n",
      "550 4.170830315936364\n",
      "551 4.1708184786273765\n",
      "552 4.170806678815977\n",
      "553 4.170794916002201\n",
      "554 4.170783189692758\n",
      "555 4.170771499400948\n",
      "556 4.170759844646568\n",
      "557 4.1707482249558305\n",
      "558 4.170736639861272\n",
      "559 4.170725088901675\n",
      "560 4.170713571621978\n",
      "561 4.170702087573199\n",
      "562 4.170690636312348\n",
      "563 4.170679217402356\n",
      "564 4.170667830411987\n",
      "565 4.170656474915766\n",
      "566 4.170645150493898\n",
      "567 4.170633856732195\n",
      "568 4.170622593221999\n",
      "569 4.170611359560113\n",
      "570 4.17060015534872\n",
      "571 4.170588980195316\n",
      "572 4.170577833712642\n",
      "573 4.170566715518607\n",
      "574 4.170555625236226\n",
      "575 4.170544562493543\n",
      "576 4.170533526923575\n",
      "577 4.170522518164236\n",
      "578 4.170511535858276\n",
      "579 4.1705005796532175\n",
      "580 4.170489649201288\n",
      "581 4.170478744159361\n",
      "582 4.170467864188891\n",
      "583 4.170457008955855\n",
      "584 4.170446178130687\n",
      "585 4.170435371388226\n",
      "586 4.170424588407652\n",
      "587 4.170413828872429\n",
      "588 4.170403092470247\n",
      "589 4.170392378892968\n",
      "590 4.170381687836572\n",
      "591 4.170371019001092\n",
      "592 4.170360372090571\n",
      "593 4.170349746813006\n",
      "594 4.17033914288029\n",
      "595 4.170328560008163\n",
      "596 4.170317997916165\n",
      "597 4.170307456327579\n",
      "598 4.170296934969382\n",
      "599 4.1702864335722\n",
      "600 4.170275951870255\n",
      "601 4.1702654896013165\n",
      "602 4.170255046506657\n",
      "603 4.1702446223310075\n",
      "604 4.170234216822502\n",
      "605 4.1702238297326435\n",
      "606 4.170213460816245\n",
      "607 4.170203109831408\n",
      "608 4.170192776539449\n",
      "609 4.170182460704883\n",
      "610 4.170172162095364\n",
      "611 4.17016188048165\n",
      "612 4.170151615637561\n",
      "613 4.17014136733994\n",
      "614 4.170131135368604\n",
      "615 4.1701209195063145\n",
      "616 4.170110719538733\n",
      "617 4.170100535254383\n",
      "618 4.170090366444616\n",
      "619 4.170080212903562\n",
      "620 4.170070074428108\n",
      "621 4.170059950817847\n",
      "622 4.170049841875056\n",
      "623 4.170039747404643\n",
      "624 4.170029667214128\n",
      "625 4.170019601113601\n",
      "626 4.170009548915683\n",
      "627 4.169999510435506\n",
      "628 4.169989485490662\n",
      "629 4.169979473901184\n",
      "630 4.169969475489506\n",
      "631 4.1699594900804335\n",
      "632 4.169949517501115\n",
      "633 4.169939557581002\n",
      "634 4.169929610151828\n",
      "635 4.16991967504757\n",
      "636 4.169909752104425\n",
      "637 4.169899841160774\n",
      "638 4.1698899420571625\n",
      "639 4.169880054636257\n",
      "640 4.169870178742834\n",
      "641 4.169860314223734\n",
      "642 4.169850460927848\n",
      "643 4.169840618706087\n",
      "644 4.169830787411348\n",
      "645 4.169820966898494\n",
      "646 4.169811157024328\n",
      "647 4.169801357647563\n",
      "648 4.169791568628799\n",
      "649 4.1697817898305\n",
      "650 4.169772021116964\n",
      "651 4.169762262354304\n",
      "652 4.169752513410416\n",
      "653 4.169742774154965\n",
      "654 4.169733044459357\n",
      "655 4.169723324196709\n",
      "656 4.169713613241839\n",
      "657 4.169703911471234\n",
      "658 4.16969421876303\n",
      "659 4.16968453499699\n",
      "660 4.169674860054485\n",
      "661 4.169665193818469\n",
      "662 4.169655536173458\n",
      "663 4.169645887005512\n",
      "664 4.169636246202211\n",
      "665 4.169626613652638\n",
      "666 4.169616989247356\n",
      "667 4.169607372878387\n",
      "668 4.169597764439202\n",
      "669 4.169588163824687\n",
      "670 4.169578570931135\n",
      "671 4.169568985656225\n",
      "672 4.169559407899\n",
      "673 4.169549837559855\n",
      "674 4.169540274540509\n",
      "675 4.169530718744\n",
      "676 4.169521170074656\n",
      "677 4.1695116284380855\n",
      "678 4.169502093741155\n",
      "679 4.1694925658919795\n",
      "680 4.169483044799893\n",
      "681 4.169473530375448\n",
      "682 4.16946402253039\n",
      "683 4.16945452117764\n",
      "684 4.169445026231282\n",
      "685 4.1694355376065495\n",
      "686 4.16942605521981\n",
      "687 4.169416578988542\n",
      "688 4.169407108831329\n",
      "689 4.1693976446678445\n",
      "690 4.16938818641883\n",
      "691 4.16937873400609\n",
      "692 4.169369287352468\n",
      "693 4.16935984638184\n",
      "694 4.169350411019103\n",
      "695 4.169340981190149\n",
      "696 4.1693315568218665\n",
      "697 4.169322137842117\n",
      "698 4.169312724179726\n",
      "699 4.169303315764467\n",
      "700 4.169293912527058\n",
      "701 4.169284514399137\n",
      "702 4.1692751213132535\n",
      "703 4.169265733202861\n",
      "704 4.1692563500023025\n",
      "705 4.169246971646794\n",
      "706 4.169237598072421\n",
      "707 4.169228229216116\n",
      "708 4.169218865015662\n",
      "709 4.169209505409668\n",
      "710 4.169200150337563\n",
      "711 4.169190799739585\n",
      "712 4.169181453556772\n",
      "713 4.169172111730947\n",
      "714 4.169162774204711\n",
      "715 4.1691534409214315\n",
      "716 4.169144111825233\n",
      "717 4.169134786860983\n",
      "718 4.169125465974291\n",
      "719 4.169116149111486\n",
      "720 4.169106836219619\n",
      "721 4.169097527246447\n",
      "722 4.169088222140422\n",
      "723 4.169078920850686\n",
      "724 4.169069623327063\n",
      "725 4.169060329520042\n",
      "726 4.169051039380777\n",
      "727 4.169041752861073\n",
      "728 4.169032469913378\n",
      "729 4.169023190490776\n",
      "730 4.169013914546977\n",
      "731 4.169004642036308\n",
      "732 4.168995372913709\n",
      "733 4.168986107134719\n",
      "734 4.1689768446554725\n",
      "735 4.1689675854326875\n",
      "736 4.168958329423663\n",
      "737 4.168949076586266\n",
      "738 4.168939826878927\n",
      "739 4.168930580260632\n",
      "740 4.168921336690912\n",
      "741 4.168912096129843\n",
      "742 4.168902858538031\n",
      "743 4.168893623876607\n",
      "744 4.168884392107225\n",
      "745 4.168875163192047\n",
      "746 4.168865937093745\n",
      "747 4.168856713775487\n",
      "748 4.168847493200928\n",
      "749 4.168838275334217\n",
      "750 4.168829060139976\n",
      "751 4.168819847583301\n",
      "752 4.168810637629756\n",
      "753 4.168801430245361\n",
      "754 4.168792225396593\n",
      "755 4.168783023050377\n",
      "756 4.168773823174073\n",
      "757 4.168764625735488\n",
      "758 4.168755430702849\n",
      "759 4.168746238044815\n",
      "760 4.168737047730454\n",
      "761 4.16872785972926\n",
      "762 4.168718674011121\n",
      "763 4.1687094905463375\n",
      "764 4.168700309305603\n",
      "765 4.168691130259997\n",
      "766 4.168681953380996\n",
      "767 4.168672778640447\n",
      "768 4.168663606010579\n",
      "769 4.16865443546399\n",
      "770 4.1686452669736465\n",
      "771 4.168636100512871\n",
      "772 4.168626936055344\n",
      "773 4.168617773575103\n",
      "774 4.168608613046523\n",
      "775 4.168599454444329\n",
      "776 4.168590297743578\n",
      "777 4.168581142919664\n",
      "778 4.168571989948306\n",
      "779 4.168562838805553\n",
      "780 4.168553689467766\n",
      "781 4.168544541911627\n",
      "782 4.168535396114131\n",
      "783 4.168526252052576\n",
      "784 4.168517109704563\n",
      "785 4.168507969047994\n",
      "786 4.1684988300610675\n",
      "787 4.168489692722271\n",
      "788 4.168480557010378\n",
      "789 4.168471422904447\n",
      "790 4.168462290383818\n",
      "791 4.168453159428106\n",
      "792 4.168444030017196\n",
      "793 4.168434902131242\n",
      "794 4.1684257757506655\n",
      "795 4.168416650856148\n",
      "796 4.168407527428628\n",
      "797 4.168398405449302\n",
      "798 4.168389284899612\n",
      "799 4.168380165761253\n"
     ]
    }
   ],
   "source": [
    "for i in range(800):\n",
    "  yh = w0 + w1 * X[:,0:1] + w2*X[:,1:2]\n",
    "\n",
    "  dew0 = -2 * ((Y-yh)).mean()\n",
    "  dew1 = -2 * ((Y-yh) * X[:,0:1]).mean()\n",
    "  dew2 = -2 * ((Y-yh) * X[:,1:2]).mean()\n",
    "\n",
    "  lr = 1e-5\n",
    "  w0 = w0 - lr*dew0\n",
    "  w1 = w1 - lr*dew1\n",
    "  w2 = w2 - lr*dew2\n",
    "\n",
    "\n",
    "  error = ((Y-yh)**2).mean()\n",
    "  print(i,error)"
   ]
  },
  {
   "cell_type": "code",
   "execution_count": null,
   "metadata": {
    "colab": {
     "base_uri": "https://localhost:8080/"
    },
    "id": "Ardl9wL_tfQc",
    "outputId": "d96b41d1-be0d-4f67-f582-5453219a238a"
   },
   "outputs": [
    {
     "name": "stdout",
     "output_type": "stream",
     "text": [
      "0.9511344337094115 -0.015002071719391098 0.08323066621844731\n"
     ]
    }
   ],
   "source": [
    "print(dew0,dew1,dew2)"
   ]
  },
  {
   "cell_type": "code",
   "execution_count": null,
   "metadata": {
    "colab": {
     "base_uri": "https://localhost:8080/"
    },
    "id": "PNFmn6gDtipF",
    "outputId": "b6779440-5184-4f7c-bccf-edc78bd9e146"
   },
   "outputs": [
    {
     "name": "stdout",
     "output_type": "stream",
     "text": [
      "5.834902668707943 0.03666823057936148 0.14061938782994263\n"
     ]
    }
   ],
   "source": [
    "print(w0,w1,w2)"
   ]
  },
  {
   "cell_type": "code",
   "execution_count": null,
   "metadata": {
    "colab": {
     "base_uri": "https://localhost:8080/"
    },
    "id": "CHHDFfiatlao",
    "outputId": "247e17ba-b123-4bd7-b80b-5b279fbcc7c7"
   },
   "outputs": [
    {
     "name": "stdout",
     "output_type": "stream",
     "text": [
      "1.4647491117507156\n"
     ]
    }
   ],
   "source": [
    "mean_absolute_error = abs(Y-yh).mean()\n",
    "print(mean_absolute_error)"
   ]
  },
  {
   "cell_type": "code",
   "execution_count": null,
   "metadata": {
    "colab": {
     "base_uri": "https://localhost:8080/",
     "height": 265
    },
    "id": "oQWspatoo4Pc",
    "outputId": "d6fe08ef-8f86-4afb-d540-a30e87bf7ff7"
   },
   "outputs": [
    {
     "data": {
      "image/png": "[encoded data removed]",
      "text/plain": [
       "<Figure size 432x288 with 1 Axes>"
      ]
     },
     "metadata": {
      "needs_background": "light"
     },
     "output_type": "display_data"
    }
   ],
   "source": [
    "plt.scatter(X,Y)\n",
    "plt.plot(X,yh,'r')\n",
    "\n",
    "plt.show()"
   ]
  },
  {
   "cell_type": "code",
   "execution_count": null,
   "metadata": {
    "colab": {
     "base_uri": "https://localhost:8080/"
    },
    "id": "N30eaaKSo75s",
    "outputId": "6029aeaa-c106-466b-9e5b-d3b7d95f762e"
   },
   "outputs": [
    {
     "name": "stdout",
     "output_type": "stream",
     "text": [
      "21.203402588966846\n"
     ]
    }
   ],
   "source": [
    "tv = 120\n",
    "radio = 78\n",
    "p_sales = w0 + w1*tv + w2*radio\n",
    "print(p_sales)"
   ]
  },
  {
   "cell_type": "markdown",
   "metadata": {
    "id": "On3GPd15x4bJ"
   },
   "source": [
    "#Linear Regression Using Scikit-Learn Library"
   ]
  },
  {
   "cell_type": "code",
   "execution_count": null,
   "metadata": {
    "colab": {
     "base_uri": "https://localhost:8080/",
     "height": 206
    },
    "id": "LFVhMu89uF24",
    "outputId": "d435d833-a1e2-4ca0-c1cd-eec370738d91"
   },
   "outputs": [
    {
     "data": {
      "text/html": [
       "\n",
       "  <div id=\"df-7d22fc8e-7e15-4205-8c2b-07dd6d6ecf20\">\n",
       "    <div class=\"colab-df-container\">\n",
       "      <div>\n",
       "<style scoped>\n",
       "    .dataframe tbody tr th:only-of-type {\n",
       "        vertical-align: middle;\n",
       "    }\n",
       "\n",
       "    .dataframe tbody tr th {\n",
       "        vertical-align: top;\n",
       "    }\n",
       "\n",
       "    .dataframe thead th {\n",
       "        text-align: right;\n",
       "    }\n",
       "</style>\n",
       "<table border=\"1\" class=\"dataframe\">\n",
       "  <thead>\n",
       "    <tr style=\"text-align: right;\">\n",
       "      <th></th>\n",
       "      <th>Unnamed: 0</th>\n",
       "      <th>TV</th>\n",
       "      <th>Radio</th>\n",
       "      <th>Newspaper</th>\n",
       "      <th>Sales</th>\n",
       "    </tr>\n",
       "  </thead>\n",
       "  <tbody>\n",
       "    <tr>\n",
       "      <th>0</th>\n",
       "      <td>1</td>\n",
       "      <td>230.1</td>\n",
       "      <td>37.8</td>\n",
       "      <td>69.2</td>\n",
       "      <td>22.1</td>\n",
       "    </tr>\n",
       "    <tr>\n",
       "      <th>1</th>\n",
       "      <td>2</td>\n",
       "      <td>44.5</td>\n",
       "      <td>39.3</td>\n",
       "      <td>45.1</td>\n",
       "      <td>10.4</td>\n",
       "    </tr>\n",
       "    <tr>\n",
       "      <th>2</th>\n",
       "      <td>3</td>\n",
       "      <td>17.2</td>\n",
       "      <td>45.9</td>\n",
       "      <td>69.3</td>\n",
       "      <td>9.3</td>\n",
       "    </tr>\n",
       "    <tr>\n",
       "      <th>3</th>\n",
       "      <td>4</td>\n",
       "      <td>151.5</td>\n",
       "      <td>41.3</td>\n",
       "      <td>58.5</td>\n",
       "      <td>18.5</td>\n",
       "    </tr>\n",
       "    <tr>\n",
       "      <th>4</th>\n",
       "      <td>5</td>\n",
       "      <td>180.8</td>\n",
       "      <td>10.8</td>\n",
       "      <td>58.4</td>\n",
       "      <td>12.9</td>\n",
       "    </tr>\n",
       "  </tbody>\n",
       "</table>\n",
       "</div>\n",
       "      <button class=\"colab-df-convert\" onclick=\"convertToInteractive('df-7d22fc8e-7e15-4205-8c2b-07dd6d6ecf20')\"\n",
       "              title=\"Convert this dataframe to an interactive table.\"\n",
       "              style=\"display:none;\">\n",
       "        \n",
       "  <svg xmlns=\"http://www.w3.org/2000/svg\" height=\"24px\"viewBox=\"0 0 24 24\"\n",
       "       width=\"24px\">\n",
       "    <path d=\"M0 0h24v24H0V0z\" fill=\"none\"/>\n",
       "    <path d=\"M18.56 5.44l.94 2.06.94-2.06 2.06-.94-2.06-.94-.94-2.06-.94 2.06-2.06.94zm-11 1L8.5 8.5l.94-2.06 2.06-.94-2.06-.94L8.5 2.5l-.94 2.06-2.06.94zm10 10l.94 2.06.94-2.06 2.06-.94-2.06-.94-.94-2.06-.94 2.06-2.06.94z\"/><path d=\"M17.41 7.96l-1.37-1.37c-.4-.4-.92-.59-1.43-.59-.52 0-1.04.2-1.43.59L10.3 9.45l-7.72 7.72c-.78.78-.78 2.05 0 2.83L4 21.41c.39.39.9.59 1.41.59.51 0 1.02-.2 1.41-.59l7.78-7.78 2.81-2.81c.8-.78.8-2.07 0-2.86zM5.41 20L4 18.59l7.72-7.72 1.47 1.35L5.41 20z\"/>\n",
       "  </svg>\n",
       "      </button>\n",
       "      \n",
       "  <style>\n",
       "    .colab-df-container {\n",
       "      display:flex;\n",
       "      flex-wrap:wrap;\n",
       "      gap: 12px;\n",
       "    }\n",
       "\n",
       "    .colab-df-convert {\n",
       "      background-color: #E8F0FE;\n",
       "      border: none;\n",
       "      border-radius: 50%;\n",
       "      cursor: pointer;\n",
       "      display: none;\n",
       "      fill: #1967D2;\n",
       "      height: 32px;\n",
       "      padding: 0 0 0 0;\n",
       "      width: 32px;\n",
       "    }\n",
       "\n",
       "    .colab-df-convert:hover {\n",
       "      background-color: #E2EBFA;\n",
       "      box-shadow: 0px 1px 2px rgba(60, 64, 67, 0.3), 0px 1px 3px 1px rgba(60, 64, 67, 0.15);\n",
       "      fill: #174EA6;\n",
       "    }\n",
       "\n",
       "    [theme=dark] .colab-df-convert {\n",
       "      background-color: #3B4455;\n",
       "      fill: #D2E3FC;\n",
       "    }\n",
       "\n",
       "    [theme=dark] .colab-df-convert:hover {\n",
       "      background-color: #434B5C;\n",
       "      box-shadow: 0px 1px 3px 1px rgba(0, 0, 0, 0.15);\n",
       "      filter: drop-shadow(0px 1px 2px rgba(0, 0, 0, 0.3));\n",
       "      fill: #FFFFFF;\n",
       "    }\n",
       "  </style>\n",
       "\n",
       "      <script>\n",
       "        const buttonEl =\n",
       "          document.querySelector('#df-7d22fc8e-7e15-4205-8c2b-07dd6d6ecf20 button.colab-df-convert');\n",
       "        buttonEl.style.display =\n",
       "          google.colab.kernel.accessAllowed ? 'block' : 'none';\n",
       "\n",
       "        async function convertToInteractive(key) {\n",
       "          const element = document.querySelector('#df-7d22fc8e-7e15-4205-8c2b-07dd6d6ecf20');\n",
       "          const dataTable =\n",
       "            await google.colab.kernel.invokeFunction('convertToInteractive',\n",
       "                                                     [key], {});\n",
       "          if (!dataTable) return;\n",
       "\n",
       "          const docLinkHtml = 'Like what you see? Visit the ' +\n",
       "            '<a target=\"_blank\" href=https://colab.research.google.com/notebooks/data_table.ipynb>data table notebook</a>'\n",
       "            + ' to learn more about interactive tables.';\n",
       "          element.innerHTML = '';\n",
       "          dataTable['output_type'] = 'display_data';\n",
       "          await google.colab.output.renderOutput(dataTable, element);\n",
       "          const docLink = document.createElement('div');\n",
       "          docLink.innerHTML = docLinkHtml;\n",
       "          element.appendChild(docLink);\n",
       "        }\n",
       "      </script>\n",
       "    </div>\n",
       "  </div>\n",
       "  "
      ],
      "text/plain": [
       "   Unnamed: 0     TV  Radio  Newspaper  Sales\n",
       "0           1  230.1   37.8       69.2   22.1\n",
       "1           2   44.5   39.3       45.1   10.4\n",
       "2           3   17.2   45.9       69.3    9.3\n",
       "3           4  151.5   41.3       58.5   18.5\n",
       "4           5  180.8   10.8       58.4   12.9"
      ]
     },
     "execution_count": 81,
     "metadata": {},
     "output_type": "execute_result"
    }
   ],
   "source": [
    "import pandas as pd\n",
    "df = pd.read_csv('Adv.csv')\n",
    "df.head()"
   ]
  },
  {
   "cell_type": "code",
   "execution_count": null,
   "metadata": {
    "id": "BGuZnzKgyAZo"
   },
   "outputs": [],
   "source": [
    "X = df[['TV','Radio']].values\n",
    "Y = df[['Sales']].values"
   ]
  },
  {
   "cell_type": "code",
   "execution_count": null,
   "metadata": {
    "id": "vOX1K9I9yDpZ"
   },
   "outputs": [],
   "source": [
    "from sklearn.model_selection import train_test_split\n",
    "xtrain,xtest,ytrain,ytest = train_test_split(X,Y)"
   ]
  },
  {
   "cell_type": "code",
   "execution_count": null,
   "metadata": {
    "colab": {
     "base_uri": "https://localhost:8080/"
    },
    "id": "KU_Wdjo6yQM9",
    "outputId": "b2813e2e-5057-4a82-8b8e-5210389fd14f"
   },
   "outputs": [
    {
     "data": {
      "text/plain": [
       "LinearRegression()"
      ]
     },
     "execution_count": 102,
     "metadata": {},
     "output_type": "execute_result"
    }
   ],
   "source": [
    "from sklearn.linear_model import LinearRegression\n",
    "lmodel = LinearRegression()\n",
    "\n",
    "lmodel.fit(xtrain,ytrain)"
   ]
  },
  {
   "cell_type": "code",
   "execution_count": null,
   "metadata": {
    "colab": {
     "base_uri": "https://localhost:8080/"
    },
    "id": "ZuWLabkOyYu7",
    "outputId": "ae5d292d-1723-41e1-e2b2-ade331c3268d"
   },
   "outputs": [
    {
     "name": "stdout",
     "output_type": "stream",
     "text": [
      "[[0.04666458 0.17187174]]\n",
      "[3.13895073]\n"
     ]
    }
   ],
   "source": [
    "print(lmodel.coef_)\n",
    "print(lmodel.intercept_)"
   ]
  },
  {
   "cell_type": "code",
   "execution_count": null,
   "metadata": {
    "colab": {
     "base_uri": "https://localhost:8080/"
    },
    "id": "Vm8bRcw2ydoW",
    "outputId": "24773d63-6a7a-42ed-cb03-f02b1b3e5de3"
   },
   "outputs": [
    {
     "name": "stdout",
     "output_type": "stream",
     "text": [
      "1.3370754179372273\n",
      "1.1233028522510953\n"
     ]
    }
   ],
   "source": [
    "ytrain_pred = lmodel.predict(xtrain)\n",
    "ytest_pred = lmodel.predict(xtest)\n",
    "\n",
    "mae_train = abs(ytrain-ytrain_pred).mean()\n",
    "mae_test = abs(ytest-ytest_pred).mean()\n",
    "\n",
    "print(mae_train)\n",
    "print(mae_test)"
   ]
  },
  {
   "cell_type": "code",
   "execution_count": null,
   "metadata": {
    "colab": {
     "base_uri": "https://localhost:8080/"
    },
    "id": "oUwSOSEBy6vU",
    "outputId": "0db0a5da-b055-434d-fdc4-1a854d17aa32"
   },
   "outputs": [
    {
     "name": "stdout",
     "output_type": "stream",
     "text": [
      "[[22.23063191]]\n"
     ]
    }
   ],
   "source": [
    "#120,78.5\n",
    "p_sales = lmodel.predict([[120,78.5]])\n",
    "print(p_sales)"
   ]
  },
  {
   "cell_type": "code",
   "execution_count": null,
   "metadata": {
    "colab": {
     "base_uri": "https://localhost:8080/"
    },
    "id": "nh631_JWzdVX",
    "outputId": "ee9e9607-1e03-43dc-95e6-03344ee361fe"
   },
   "outputs": [
    {
     "data": {
      "text/plain": [
       "array([[11.7       , 12.96142276],\n",
       "       [23.8       , 23.20927631],\n",
       "       [22.1       , 20.37322229],\n",
       "       [15.2       , 14.8301227 ],\n",
       "       [21.2       , 19.60037738],\n",
       "       [10.5       ,  9.1834179 ],\n",
       "       [ 9.6       ,  9.59700573],\n",
       "       [14.2       , 13.66037718],\n",
       "       [19.7       , 19.39992897],\n",
       "       [19.6       , 19.15352864],\n",
       "       [16.6       , 16.36448322],\n",
       "       [23.7       , 20.91099959],\n",
       "       [24.7       , 21.8408729 ],\n",
       "       [17.4       , 18.97049789],\n",
       "       [20.7       , 19.31240091],\n",
       "       [20.7       , 20.14965429],\n",
       "       [15.9       , 16.46040447],\n",
       "       [12.2       , 13.68291885],\n",
       "       [16.7       , 16.47819076],\n",
       "       [18.9       , 18.9435948 ],\n",
       "       [12.4       , 10.72048746],\n",
       "       [11.        , 10.15701626],\n",
       "       [25.5       , 23.59163861],\n",
       "       [15.5       , 15.37653805],\n",
       "       [11.9       , 14.66615857],\n",
       "       [10.9       , 11.83863589],\n",
       "       [ 7.        ,  7.7458616 ],\n",
       "       [13.4       , 15.08516108],\n",
       "       [12.8       , 17.40901817],\n",
       "       [19.4       , 19.05553302],\n",
       "       [12.6       , 12.58532252],\n",
       "       [13.6       , 13.97910042],\n",
       "       [12.2       , 14.26326878],\n",
       "       [ 9.9       ,  8.51834129],\n",
       "       [11.7       , 12.2175553 ],\n",
       "       [12.7       , 16.0128253 ],\n",
       "       [12.5       , 15.09366781],\n",
       "       [14.7       , 15.1152588 ],\n",
       "       [18.        , 18.09134213],\n",
       "       [18.9       , 19.40682231],\n",
       "       [18.        , 17.09348955],\n",
       "       [19.2       , 18.26213942],\n",
       "       [15.6       , 15.52905251],\n",
       "       [ 5.9       ,  4.64625564],\n",
       "       [ 6.6       ,  6.79419142],\n",
       "       [15.9       , 15.34675561],\n",
       "       [11.8       , 11.29310008],\n",
       "       [23.8       , 21.50068244],\n",
       "       [ 8.4       ,  7.4658919 ],\n",
       "       [23.2       , 21.46646061]])"
      ]
     },
     "execution_count": 108,
     "metadata": {},
     "output_type": "execute_result"
    }
   ],
   "source": [
    "np.hstack((ytest,ytest_pred))"
   ]
  },
  {
   "cell_type": "markdown",
   "metadata": {
    "id": "TNbBJecS00SY"
   },
   "source": [
    "#Non-Linear Regression"
   ]
  },
  {
   "cell_type": "code",
   "execution_count": null,
   "metadata": {
    "colab": {
     "base_uri": "https://localhost:8080/",
     "height": 206
    },
    "id": "xmC8GUrKzqF_",
    "outputId": "eb4f4b51-4da0-412c-fc33-133f594bde3d"
   },
   "outputs": [
    {
     "data": {
      "text/html": [
       "\n",
       "  <div id=\"df-78d6b806-cc52-48b9-a500-7f70fca9073e\">\n",
       "    <div class=\"colab-df-container\">\n",
       "      <div>\n",
       "<style scoped>\n",
       "    .dataframe tbody tr th:only-of-type {\n",
       "        vertical-align: middle;\n",
       "    }\n",
       "\n",
       "    .dataframe tbody tr th {\n",
       "        vertical-align: top;\n",
       "    }\n",
       "\n",
       "    .dataframe thead th {\n",
       "        text-align: right;\n",
       "    }\n",
       "</style>\n",
       "<table border=\"1\" class=\"dataframe\">\n",
       "  <thead>\n",
       "    <tr style=\"text-align: right;\">\n",
       "      <th></th>\n",
       "      <th>0</th>\n",
       "      <th>1</th>\n",
       "    </tr>\n",
       "  </thead>\n",
       "  <tbody>\n",
       "    <tr>\n",
       "      <th>0</th>\n",
       "      <td>-10.0</td>\n",
       "      <td>-400.298943</td>\n",
       "    </tr>\n",
       "    <tr>\n",
       "      <th>1</th>\n",
       "      <td>-9.9</td>\n",
       "      <td>-390.568974</td>\n",
       "    </tr>\n",
       "    <tr>\n",
       "      <th>2</th>\n",
       "      <td>-9.8</td>\n",
       "      <td>-364.284896</td>\n",
       "    </tr>\n",
       "    <tr>\n",
       "      <th>3</th>\n",
       "      <td>-9.7</td>\n",
       "      <td>-355.562114</td>\n",
       "    </tr>\n",
       "    <tr>\n",
       "      <th>4</th>\n",
       "      <td>-9.6</td>\n",
       "      <td>-337.946480</td>\n",
       "    </tr>\n",
       "  </tbody>\n",
       "</table>\n",
       "</div>\n",
       "      <button class=\"colab-df-convert\" onclick=\"convertToInteractive('df-78d6b806-cc52-48b9-a500-7f70fca9073e')\"\n",
       "              title=\"Convert this dataframe to an interactive table.\"\n",
       "              style=\"display:none;\">\n",
       "        \n",
       "  <svg xmlns=\"http://www.w3.org/2000/svg\" height=\"24px\"viewBox=\"0 0 24 24\"\n",
       "       width=\"24px\">\n",
       "    <path d=\"M0 0h24v24H0V0z\" fill=\"none\"/>\n",
       "    <path d=\"M18.56 5.44l.94 2.06.94-2.06 2.06-.94-2.06-.94-.94-2.06-.94 2.06-2.06.94zm-11 1L8.5 8.5l.94-2.06 2.06-.94-2.06-.94L8.5 2.5l-.94 2.06-2.06.94zm10 10l.94 2.06.94-2.06 2.06-.94-2.06-.94-.94-2.06-.94 2.06-2.06.94z\"/><path d=\"M17.41 7.96l-1.37-1.37c-.4-.4-.92-.59-1.43-.59-.52 0-1.04.2-1.43.59L10.3 9.45l-7.72 7.72c-.78.78-.78 2.05 0 2.83L4 21.41c.39.39.9.59 1.41.59.51 0 1.02-.2 1.41-.59l7.78-7.78 2.81-2.81c.8-.78.8-2.07 0-2.86zM5.41 20L4 18.59l7.72-7.72 1.47 1.35L5.41 20z\"/>\n",
       "  </svg>\n",
       "      </button>\n",
       "      \n",
       "  <style>\n",
       "    .colab-df-container {\n",
       "      display:flex;\n",
       "      flex-wrap:wrap;\n",
       "      gap: 12px;\n",
       "    }\n",
       "\n",
       "    .colab-df-convert {\n",
       "      background-color: #E8F0FE;\n",
       "      border: none;\n",
       "      border-radius: 50%;\n",
       "      cursor: pointer;\n",
       "      display: none;\n",
       "      fill: #1967D2;\n",
       "      height: 32px;\n",
       "      padding: 0 0 0 0;\n",
       "      width: 32px;\n",
       "    }\n",
       "\n",
       "    .colab-df-convert:hover {\n",
       "      background-color: #E2EBFA;\n",
       "      box-shadow: 0px 1px 2px rgba(60, 64, 67, 0.3), 0px 1px 3px 1px rgba(60, 64, 67, 0.15);\n",
       "      fill: #174EA6;\n",
       "    }\n",
       "\n",
       "    [theme=dark] .colab-df-convert {\n",
       "      background-color: #3B4455;\n",
       "      fill: #D2E3FC;\n",
       "    }\n",
       "\n",
       "    [theme=dark] .colab-df-convert:hover {\n",
       "      background-color: #434B5C;\n",
       "      box-shadow: 0px 1px 3px 1px rgba(0, 0, 0, 0.15);\n",
       "      filter: drop-shadow(0px 1px 2px rgba(0, 0, 0, 0.3));\n",
       "      fill: #FFFFFF;\n",
       "    }\n",
       "  </style>\n",
       "\n",
       "      <script>\n",
       "        const buttonEl =\n",
       "          document.querySelector('#df-78d6b806-cc52-48b9-a500-7f70fca9073e button.colab-df-convert');\n",
       "        buttonEl.style.display =\n",
       "          google.colab.kernel.accessAllowed ? 'block' : 'none';\n",
       "\n",
       "        async function convertToInteractive(key) {\n",
       "          const element = document.querySelector('#df-78d6b806-cc52-48b9-a500-7f70fca9073e');\n",
       "          const dataTable =\n",
       "            await google.colab.kernel.invokeFunction('convertToInteractive',\n",
       "                                                     [key], {});\n",
       "          if (!dataTable) return;\n",
       "\n",
       "          const docLinkHtml = 'Like what you see? Visit the ' +\n",
       "            '<a target=\"_blank\" href=https://colab.research.google.com/notebooks/data_table.ipynb>data table notebook</a>'\n",
       "            + ' to learn more about interactive tables.';\n",
       "          element.innerHTML = '';\n",
       "          dataTable['output_type'] = 'display_data';\n",
       "          await google.colab.output.renderOutput(dataTable, element);\n",
       "          const docLink = document.createElement('div');\n",
       "          docLink.innerHTML = docLinkHtml;\n",
       "          element.appendChild(docLink);\n",
       "        }\n",
       "      </script>\n",
       "    </div>\n",
       "  </div>\n",
       "  "
      ],
      "text/plain": [
       "      0           1\n",
       "0 -10.0 -400.298943\n",
       "1  -9.9 -390.568974\n",
       "2  -9.8 -364.284896\n",
       "3  -9.7 -355.562114\n",
       "4  -9.6 -337.946480"
      ]
     },
     "execution_count": 110,
     "metadata": {},
     "output_type": "execute_result"
    }
   ],
   "source": [
    "import pandas as pd\n",
    "df = pd.read_csv('dataset.csv',header=None)\n",
    "df.head()"
   ]
  },
  {
   "cell_type": "code",
   "execution_count": null,
   "metadata": {
    "id": "ybnQDok12Hc0"
   },
   "outputs": [],
   "source": [
    "X = df[[0]].values\n",
    "Y = df[[1]].values"
   ]
  },
  {
   "cell_type": "code",
   "execution_count": null,
   "metadata": {
    "id": "STsll1_D2MIL"
   },
   "outputs": [],
   "source": [
    "from sklearn.preprocessing import PolynomialFeatures\n",
    "pol = PolynomialFeatures(3,include_bias=False)\n",
    "\n",
    "pol.fit(X)\n",
    "\n",
    "x_pol = pol.transform(X)"
   ]
  },
  {
   "cell_type": "code",
   "execution_count": null,
   "metadata": {
    "colab": {
     "base_uri": "https://localhost:8080/"
    },
    "id": "2jUo5hOL3xKH",
    "outputId": "b0adabc9-f391-466b-ff70-b9b29aaf9b81"
   },
   "outputs": [
    {
     "data": {
      "text/plain": [
       "array([[-1.00000e+01,  1.00000e+02, -1.00000e+03],\n",
       "       [-9.90000e+00,  9.80100e+01, -9.70299e+02],\n",
       "       [-9.80000e+00,  9.60400e+01, -9.41192e+02],\n",
       "       [-9.70000e+00,  9.40900e+01, -9.12673e+02],\n",
       "       [-9.60000e+00,  9.21600e+01, -8.84736e+02],\n",
       "       [-9.50000e+00,  9.02500e+01, -8.57375e+02],\n",
       "       [-9.40000e+00,  8.83600e+01, -8.30584e+02],\n",
       "       [-9.30000e+00,  8.64900e+01, -8.04357e+02],\n",
       "       [-9.20000e+00,  8.46400e+01, -7.78688e+02],\n",
       "       [-9.10000e+00,  8.28100e+01, -7.53571e+02],\n",
       "       [-9.00000e+00,  8.10000e+01, -7.29000e+02],\n",
       "       [-8.90000e+00,  7.92100e+01, -7.04969e+02],\n",
       "       [-8.80000e+00,  7.74400e+01, -6.81472e+02],\n",
       "       [-8.70000e+00,  7.56900e+01, -6.58503e+02],\n",
       "       [-8.60000e+00,  7.39600e+01, -6.36056e+02],\n",
       "       [-8.50000e+00,  7.22500e+01, -6.14125e+02],\n",
       "       [-8.40000e+00,  7.05600e+01, -5.92704e+02],\n",
       "       [-8.30000e+00,  6.88900e+01, -5.71787e+02],\n",
       "       [-8.20000e+00,  6.72400e+01, -5.51368e+02],\n",
       "       [-8.10000e+00,  6.56100e+01, -5.31441e+02],\n",
       "       [-8.00000e+00,  6.40000e+01, -5.12000e+02],\n",
       "       [-7.90000e+00,  6.24100e+01, -4.93039e+02],\n",
       "       [-7.80000e+00,  6.08400e+01, -4.74552e+02],\n",
       "       [-7.70000e+00,  5.92900e+01, -4.56533e+02],\n",
       "       [-7.60000e+00,  5.77600e+01, -4.38976e+02],\n",
       "       [-7.50000e+00,  5.62500e+01, -4.21875e+02],\n",
       "       [-7.40000e+00,  5.47600e+01, -4.05224e+02],\n",
       "       [-7.30000e+00,  5.32900e+01, -3.89017e+02],\n",
       "       [-7.20000e+00,  5.18400e+01, -3.73248e+02],\n",
       "       [-7.10000e+00,  5.04100e+01, -3.57911e+02],\n",
       "       [-7.00000e+00,  4.90000e+01, -3.43000e+02],\n",
       "       [-6.90000e+00,  4.76100e+01, -3.28509e+02],\n",
       "       [-6.80000e+00,  4.62400e+01, -3.14432e+02],\n",
       "       [-6.70000e+00,  4.48900e+01, -3.00763e+02],\n",
       "       [-6.60000e+00,  4.35600e+01, -2.87496e+02],\n",
       "       [-6.50000e+00,  4.22500e+01, -2.74625e+02],\n",
       "       [-6.40000e+00,  4.09600e+01, -2.62144e+02],\n",
       "       [-6.30000e+00,  3.96900e+01, -2.50047e+02],\n",
       "       [-6.20000e+00,  3.84400e+01, -2.38328e+02],\n",
       "       [-6.10000e+00,  3.72100e+01, -2.26981e+02],\n",
       "       [-6.00000e+00,  3.60000e+01, -2.16000e+02],\n",
       "       [-5.90000e+00,  3.48100e+01, -2.05379e+02],\n",
       "       [-5.80000e+00,  3.36400e+01, -1.95112e+02],\n",
       "       [-5.70000e+00,  3.24900e+01, -1.85193e+02],\n",
       "       [-5.60000e+00,  3.13600e+01, -1.75616e+02],\n",
       "       [-5.50000e+00,  3.02500e+01, -1.66375e+02],\n",
       "       [-5.40000e+00,  2.91600e+01, -1.57464e+02],\n",
       "       [-5.30000e+00,  2.80900e+01, -1.48877e+02],\n",
       "       [-5.20000e+00,  2.70400e+01, -1.40608e+02],\n",
       "       [-5.10000e+00,  2.60100e+01, -1.32651e+02],\n",
       "       [-5.00000e+00,  2.50000e+01, -1.25000e+02],\n",
       "       [-4.90000e+00,  2.40100e+01, -1.17649e+02],\n",
       "       [-4.80000e+00,  2.30400e+01, -1.10592e+02],\n",
       "       [-4.70000e+00,  2.20900e+01, -1.03823e+02],\n",
       "       [-4.60000e+00,  2.11600e+01, -9.73360e+01],\n",
       "       [-4.50000e+00,  2.02500e+01, -9.11250e+01],\n",
       "       [-4.40000e+00,  1.93600e+01, -8.51840e+01],\n",
       "       [-4.30000e+00,  1.84900e+01, -7.95070e+01],\n",
       "       [-4.20000e+00,  1.76400e+01, -7.40880e+01],\n",
       "       [-4.10000e+00,  1.68100e+01, -6.89210e+01],\n",
       "       [-4.00000e+00,  1.60000e+01, -6.40000e+01],\n",
       "       [-3.90000e+00,  1.52100e+01, -5.93190e+01],\n",
       "       [-3.80000e+00,  1.44400e+01, -5.48720e+01],\n",
       "       [-3.70000e+00,  1.36900e+01, -5.06530e+01],\n",
       "       [-3.60000e+00,  1.29600e+01, -4.66560e+01],\n",
       "       [-3.50000e+00,  1.22500e+01, -4.28750e+01],\n",
       "       [-3.40000e+00,  1.15600e+01, -3.93040e+01],\n",
       "       [-3.30000e+00,  1.08900e+01, -3.59370e+01],\n",
       "       [-3.20000e+00,  1.02400e+01, -3.27680e+01],\n",
       "       [-3.10000e+00,  9.61000e+00, -2.97910e+01],\n",
       "       [-3.00000e+00,  9.00000e+00, -2.70000e+01],\n",
       "       [-2.90000e+00,  8.41000e+00, -2.43890e+01],\n",
       "       [-2.80000e+00,  7.84000e+00, -2.19520e+01],\n",
       "       [-2.70000e+00,  7.29000e+00, -1.96830e+01],\n",
       "       [-2.60000e+00,  6.76000e+00, -1.75760e+01],\n",
       "       [-2.50000e+00,  6.25000e+00, -1.56250e+01],\n",
       "       [-2.40000e+00,  5.76000e+00, -1.38240e+01],\n",
       "       [-2.30000e+00,  5.29000e+00, -1.21670e+01],\n",
       "       [-2.20000e+00,  4.84000e+00, -1.06480e+01],\n",
       "       [-2.10000e+00,  4.41000e+00, -9.26100e+00],\n",
       "       [-2.00000e+00,  4.00000e+00, -8.00000e+00],\n",
       "       [-1.90000e+00,  3.61000e+00, -6.85900e+00],\n",
       "       [-1.80000e+00,  3.24000e+00, -5.83200e+00],\n",
       "       [-1.70000e+00,  2.89000e+00, -4.91300e+00],\n",
       "       [-1.60000e+00,  2.56000e+00, -4.09600e+00],\n",
       "       [-1.50000e+00,  2.25000e+00, -3.37500e+00],\n",
       "       [-1.40000e+00,  1.96000e+00, -2.74400e+00],\n",
       "       [-1.30000e+00,  1.69000e+00, -2.19700e+00],\n",
       "       [-1.20000e+00,  1.44000e+00, -1.72800e+00],\n",
       "       [-1.10000e+00,  1.21000e+00, -1.33100e+00],\n",
       "       [-1.00000e+00,  1.00000e+00, -1.00000e+00],\n",
       "       [-9.00000e-01,  8.10000e-01, -7.29000e-01],\n",
       "       [-8.00000e-01,  6.40000e-01, -5.12000e-01],\n",
       "       [-7.00000e-01,  4.90000e-01, -3.43000e-01],\n",
       "       [-6.00000e-01,  3.60000e-01, -2.16000e-01],\n",
       "       [-5.00000e-01,  2.50000e-01, -1.25000e-01],\n",
       "       [-4.00000e-01,  1.60000e-01, -6.40000e-02],\n",
       "       [-3.00000e-01,  9.00000e-02, -2.70000e-02],\n",
       "       [-2.00000e-01,  4.00000e-02, -8.00000e-03],\n",
       "       [-1.00000e-01,  1.00000e-02, -1.00000e-03],\n",
       "       [ 0.00000e+00,  0.00000e+00,  0.00000e+00],\n",
       "       [ 1.00000e-01,  1.00000e-02,  1.00000e-03],\n",
       "       [ 2.00000e-01,  4.00000e-02,  8.00000e-03],\n",
       "       [ 3.00000e-01,  9.00000e-02,  2.70000e-02],\n",
       "       [ 4.00000e-01,  1.60000e-01,  6.40000e-02],\n",
       "       [ 5.00000e-01,  2.50000e-01,  1.25000e-01],\n",
       "       [ 6.00000e-01,  3.60000e-01,  2.16000e-01],\n",
       "       [ 7.00000e-01,  4.90000e-01,  3.43000e-01],\n",
       "       [ 8.00000e-01,  6.40000e-01,  5.12000e-01],\n",
       "       [ 9.00000e-01,  8.10000e-01,  7.29000e-01],\n",
       "       [ 1.00000e+00,  1.00000e+00,  1.00000e+00],\n",
       "       [ 1.10000e+00,  1.21000e+00,  1.33100e+00],\n",
       "       [ 1.20000e+00,  1.44000e+00,  1.72800e+00],\n",
       "       [ 1.30000e+00,  1.69000e+00,  2.19700e+00],\n",
       "       [ 1.40000e+00,  1.96000e+00,  2.74400e+00],\n",
       "       [ 1.50000e+00,  2.25000e+00,  3.37500e+00],\n",
       "       [ 1.60000e+00,  2.56000e+00,  4.09600e+00],\n",
       "       [ 1.70000e+00,  2.89000e+00,  4.91300e+00],\n",
       "       [ 1.80000e+00,  3.24000e+00,  5.83200e+00],\n",
       "       [ 1.90000e+00,  3.61000e+00,  6.85900e+00],\n",
       "       [ 2.00000e+00,  4.00000e+00,  8.00000e+00],\n",
       "       [ 2.10000e+00,  4.41000e+00,  9.26100e+00],\n",
       "       [ 2.20000e+00,  4.84000e+00,  1.06480e+01],\n",
       "       [ 2.30000e+00,  5.29000e+00,  1.21670e+01],\n",
       "       [ 2.40000e+00,  5.76000e+00,  1.38240e+01],\n",
       "       [ 2.50000e+00,  6.25000e+00,  1.56250e+01],\n",
       "       [ 2.60000e+00,  6.76000e+00,  1.75760e+01],\n",
       "       [ 2.70000e+00,  7.29000e+00,  1.96830e+01],\n",
       "       [ 2.80000e+00,  7.84000e+00,  2.19520e+01],\n",
       "       [ 2.90000e+00,  8.41000e+00,  2.43890e+01],\n",
       "       [ 3.00000e+00,  9.00000e+00,  2.70000e+01],\n",
       "       [ 3.10000e+00,  9.61000e+00,  2.97910e+01],\n",
       "       [ 3.20000e+00,  1.02400e+01,  3.27680e+01],\n",
       "       [ 3.30000e+00,  1.08900e+01,  3.59370e+01],\n",
       "       [ 3.40000e+00,  1.15600e+01,  3.93040e+01],\n",
       "       [ 3.50000e+00,  1.22500e+01,  4.28750e+01],\n",
       "       [ 3.60000e+00,  1.29600e+01,  4.66560e+01],\n",
       "       [ 3.70000e+00,  1.36900e+01,  5.06530e+01],\n",
       "       [ 3.80000e+00,  1.44400e+01,  5.48720e+01],\n",
       "       [ 3.90000e+00,  1.52100e+01,  5.93190e+01],\n",
       "       [ 4.00000e+00,  1.60000e+01,  6.40000e+01],\n",
       "       [ 4.10000e+00,  1.68100e+01,  6.89210e+01],\n",
       "       [ 4.20000e+00,  1.76400e+01,  7.40880e+01],\n",
       "       [ 4.30000e+00,  1.84900e+01,  7.95070e+01],\n",
       "       [ 4.40000e+00,  1.93600e+01,  8.51840e+01],\n",
       "       [ 4.50000e+00,  2.02500e+01,  9.11250e+01],\n",
       "       [ 4.60000e+00,  2.11600e+01,  9.73360e+01],\n",
       "       [ 4.70000e+00,  2.20900e+01,  1.03823e+02],\n",
       "       [ 4.80000e+00,  2.30400e+01,  1.10592e+02],\n",
       "       [ 4.90000e+00,  2.40100e+01,  1.17649e+02],\n",
       "       [ 5.00000e+00,  2.50000e+01,  1.25000e+02],\n",
       "       [ 5.10000e+00,  2.60100e+01,  1.32651e+02],\n",
       "       [ 5.20000e+00,  2.70400e+01,  1.40608e+02],\n",
       "       [ 5.30000e+00,  2.80900e+01,  1.48877e+02],\n",
       "       [ 5.40000e+00,  2.91600e+01,  1.57464e+02],\n",
       "       [ 5.50000e+00,  3.02500e+01,  1.66375e+02],\n",
       "       [ 5.60000e+00,  3.13600e+01,  1.75616e+02],\n",
       "       [ 5.70000e+00,  3.24900e+01,  1.85193e+02],\n",
       "       [ 5.80000e+00,  3.36400e+01,  1.95112e+02],\n",
       "       [ 5.90000e+00,  3.48100e+01,  2.05379e+02],\n",
       "       [ 6.00000e+00,  3.60000e+01,  2.16000e+02],\n",
       "       [ 6.10000e+00,  3.72100e+01,  2.26981e+02],\n",
       "       [ 6.20000e+00,  3.84400e+01,  2.38328e+02],\n",
       "       [ 6.30000e+00,  3.96900e+01,  2.50047e+02],\n",
       "       [ 6.40000e+00,  4.09600e+01,  2.62144e+02],\n",
       "       [ 6.50000e+00,  4.22500e+01,  2.74625e+02],\n",
       "       [ 6.60000e+00,  4.35600e+01,  2.87496e+02],\n",
       "       [ 6.70000e+00,  4.48900e+01,  3.00763e+02],\n",
       "       [ 6.80000e+00,  4.62400e+01,  3.14432e+02],\n",
       "       [ 6.90000e+00,  4.76100e+01,  3.28509e+02],\n",
       "       [ 7.00000e+00,  4.90000e+01,  3.43000e+02],\n",
       "       [ 7.10000e+00,  5.04100e+01,  3.57911e+02],\n",
       "       [ 7.20000e+00,  5.18400e+01,  3.73248e+02],\n",
       "       [ 7.30000e+00,  5.32900e+01,  3.89017e+02],\n",
       "       [ 7.40000e+00,  5.47600e+01,  4.05224e+02],\n",
       "       [ 7.50000e+00,  5.62500e+01,  4.21875e+02],\n",
       "       [ 7.60000e+00,  5.77600e+01,  4.38976e+02],\n",
       "       [ 7.70000e+00,  5.92900e+01,  4.56533e+02],\n",
       "       [ 7.80000e+00,  6.08400e+01,  4.74552e+02],\n",
       "       [ 7.90000e+00,  6.24100e+01,  4.93039e+02],\n",
       "       [ 8.00000e+00,  6.40000e+01,  5.12000e+02],\n",
       "       [ 8.10000e+00,  6.56100e+01,  5.31441e+02],\n",
       "       [ 8.20000e+00,  6.72400e+01,  5.51368e+02],\n",
       "       [ 8.30000e+00,  6.88900e+01,  5.71787e+02],\n",
       "       [ 8.40000e+00,  7.05600e+01,  5.92704e+02],\n",
       "       [ 8.50000e+00,  7.22500e+01,  6.14125e+02],\n",
       "       [ 8.60000e+00,  7.39600e+01,  6.36056e+02],\n",
       "       [ 8.70000e+00,  7.56900e+01,  6.58503e+02],\n",
       "       [ 8.80000e+00,  7.74400e+01,  6.81472e+02],\n",
       "       [ 8.90000e+00,  7.92100e+01,  7.04969e+02],\n",
       "       [ 9.00000e+00,  8.10000e+01,  7.29000e+02],\n",
       "       [ 9.10000e+00,  8.28100e+01,  7.53571e+02],\n",
       "       [ 9.20000e+00,  8.46400e+01,  7.78688e+02],\n",
       "       [ 9.30000e+00,  8.64900e+01,  8.04357e+02],\n",
       "       [ 9.40000e+00,  8.83600e+01,  8.30584e+02],\n",
       "       [ 9.50000e+00,  9.02500e+01,  8.57375e+02],\n",
       "       [ 9.60000e+00,  9.21600e+01,  8.84736e+02],\n",
       "       [ 9.70000e+00,  9.40900e+01,  9.12673e+02],\n",
       "       [ 9.80000e+00,  9.60400e+01,  9.41192e+02],\n",
       "       [ 9.90000e+00,  9.80100e+01,  9.70299e+02],\n",
       "       [ 1.00000e+01,  1.00000e+02,  1.00000e+03]])"
      ]
     },
     "execution_count": 149,
     "metadata": {},
     "output_type": "execute_result"
    }
   ],
   "source": [
    "x_pol"
   ]
  },
  {
   "cell_type": "code",
   "execution_count": null,
   "metadata": {
    "colab": {
     "base_uri": "https://localhost:8080/"
    },
    "id": "AR3tiMqA3DYw",
    "outputId": "baea3fa5-3329-4d55-b384-045a9c94aec0"
   },
   "outputs": [
    {
     "data": {
      "text/plain": [
       "LinearRegression()"
      ]
     },
     "execution_count": 150,
     "metadata": {},
     "output_type": "execute_result"
    }
   ],
   "source": [
    "from sklearn.linear_model import LinearRegression\n",
    "pmodel = LinearRegression()\n",
    "\n",
    "pmodel.fit(x_pol,Y)"
   ]
  },
  {
   "cell_type": "code",
   "execution_count": null,
   "metadata": {
    "colab": {
     "base_uri": "https://localhost:8080/"
    },
    "id": "A3VeHH8h3P5G",
    "outputId": "b2a06ce3-ec69-4e4c-d620-26f7bf01d0ce"
   },
   "outputs": [
    {
     "name": "stdout",
     "output_type": "stream",
     "text": [
      "[[0.0515453  1.0367589  0.49913906]]\n",
      "[1.00146538]\n"
     ]
    }
   ],
   "source": [
    "print(pmodel.coef_)\n",
    "print(pmodel.intercept_)"
   ]
  },
  {
   "cell_type": "code",
   "execution_count": null,
   "metadata": {
    "id": "MjCCPrbh3YUt"
   },
   "outputs": [],
   "source": [
    "ypred = pmodel.predict(x_pol)"
   ]
  },
  {
   "cell_type": "code",
   "execution_count": null,
   "metadata": {
    "colab": {
     "base_uri": "https://localhost:8080/"
    },
    "id": "XvpGGXCT3mx6",
    "outputId": "f86bb6c6-f0e9-4597-80a7-4ccb3edad1cc"
   },
   "outputs": [
    {
     "data": {
      "text/plain": [
       "7.2930923849801355"
      ]
     },
     "execution_count": 153,
     "metadata": {},
     "output_type": "execute_result"
    }
   ],
   "source": [
    "abs(Y - ypred).mean()"
   ]
  },
  {
   "cell_type": "code",
   "execution_count": null,
   "metadata": {
    "colab": {
     "base_uri": "https://localhost:8080/",
     "height": 265
    },
    "id": "yiHw7xtk1RQG",
    "outputId": "a9cf02de-a589-4efc-933d-054d69598748"
   },
   "outputs": [
    {
     "data": {
      "image/png": "[encoded data removed]",
      "text/plain": [
       "<Figure size 432x288 with 1 Axes>"
      ]
     },
     "metadata": {
      "needs_background": "light"
     },
     "output_type": "display_data"
    }
   ],
   "source": [
    "import matplotlib.pyplot as plt\n",
    "\n",
    "plt.scatter(df[0],df[1])\n",
    "plt.plot(X,ypred,'r')\n",
    "\n",
    "\n",
    "plt.show()"
   ]
  },
  {
   "cell_type": "markdown",
   "metadata": {
    "id": "4qCsdqcI4rhu"
   },
   "source": [
    "#Implement non Linearity on Advertisement Data"
   ]
  },
  {
   "cell_type": "code",
   "execution_count": null,
   "metadata": {
    "colab": {
     "base_uri": "https://localhost:8080/",
     "height": 206
    },
    "id": "0fFezmlv45xT",
    "outputId": "ce69dd7e-b75a-41fc-85fa-1dc268d0eec5"
   },
   "outputs": [
    {
     "data": {
      "text/html": [
       "\n",
       "  <div id=\"df-78b4de34-b484-4c8d-a0ed-5837e25741b1\">\n",
       "    <div class=\"colab-df-container\">\n",
       "      <div>\n",
       "<style scoped>\n",
       "    .dataframe tbody tr th:only-of-type {\n",
       "        vertical-align: middle;\n",
       "    }\n",
       "\n",
       "    .dataframe tbody tr th {\n",
       "        vertical-align: top;\n",
       "    }\n",
       "\n",
       "    .dataframe thead th {\n",
       "        text-align: right;\n",
       "    }\n",
       "</style>\n",
       "<table border=\"1\" class=\"dataframe\">\n",
       "  <thead>\n",
       "    <tr style=\"text-align: right;\">\n",
       "      <th></th>\n",
       "      <th>Unnamed: 0</th>\n",
       "      <th>TV</th>\n",
       "      <th>Radio</th>\n",
       "      <th>Newspaper</th>\n",
       "      <th>Sales</th>\n",
       "    </tr>\n",
       "  </thead>\n",
       "  <tbody>\n",
       "    <tr>\n",
       "      <th>0</th>\n",
       "      <td>1</td>\n",
       "      <td>230.1</td>\n",
       "      <td>37.8</td>\n",
       "      <td>69.2</td>\n",
       "      <td>22.1</td>\n",
       "    </tr>\n",
       "    <tr>\n",
       "      <th>1</th>\n",
       "      <td>2</td>\n",
       "      <td>44.5</td>\n",
       "      <td>39.3</td>\n",
       "      <td>45.1</td>\n",
       "      <td>10.4</td>\n",
       "    </tr>\n",
       "    <tr>\n",
       "      <th>2</th>\n",
       "      <td>3</td>\n",
       "      <td>17.2</td>\n",
       "      <td>45.9</td>\n",
       "      <td>69.3</td>\n",
       "      <td>9.3</td>\n",
       "    </tr>\n",
       "    <tr>\n",
       "      <th>3</th>\n",
       "      <td>4</td>\n",
       "      <td>151.5</td>\n",
       "      <td>41.3</td>\n",
       "      <td>58.5</td>\n",
       "      <td>18.5</td>\n",
       "    </tr>\n",
       "    <tr>\n",
       "      <th>4</th>\n",
       "      <td>5</td>\n",
       "      <td>180.8</td>\n",
       "      <td>10.8</td>\n",
       "      <td>58.4</td>\n",
       "      <td>12.9</td>\n",
       "    </tr>\n",
       "  </tbody>\n",
       "</table>\n",
       "</div>\n",
       "      <button class=\"colab-df-convert\" onclick=\"convertToInteractive('df-78b4de34-b484-4c8d-a0ed-5837e25741b1')\"\n",
       "              title=\"Convert this dataframe to an interactive table.\"\n",
       "              style=\"display:none;\">\n",
       "        \n",
       "  <svg xmlns=\"http://www.w3.org/2000/svg\" height=\"24px\"viewBox=\"0 0 24 24\"\n",
       "       width=\"24px\">\n",
       "    <path d=\"M0 0h24v24H0V0z\" fill=\"none\"/>\n",
       "    <path d=\"M18.56 5.44l.94 2.06.94-2.06 2.06-.94-2.06-.94-.94-2.06-.94 2.06-2.06.94zm-11 1L8.5 8.5l.94-2.06 2.06-.94-2.06-.94L8.5 2.5l-.94 2.06-2.06.94zm10 10l.94 2.06.94-2.06 2.06-.94-2.06-.94-.94-2.06-.94 2.06-2.06.94z\"/><path d=\"M17.41 7.96l-1.37-1.37c-.4-.4-.92-.59-1.43-.59-.52 0-1.04.2-1.43.59L10.3 9.45l-7.72 7.72c-.78.78-.78 2.05 0 2.83L4 21.41c.39.39.9.59 1.41.59.51 0 1.02-.2 1.41-.59l7.78-7.78 2.81-2.81c.8-.78.8-2.07 0-2.86zM5.41 20L4 18.59l7.72-7.72 1.47 1.35L5.41 20z\"/>\n",
       "  </svg>\n",
       "      </button>\n",
       "      \n",
       "  <style>\n",
       "    .colab-df-container {\n",
       "      display:flex;\n",
       "      flex-wrap:wrap;\n",
       "      gap: 12px;\n",
       "    }\n",
       "\n",
       "    .colab-df-convert {\n",
       "      background-color: #E8F0FE;\n",
       "      border: none;\n",
       "      border-radius: 50%;\n",
       "      cursor: pointer;\n",
       "      display: none;\n",
       "      fill: #1967D2;\n",
       "      height: 32px;\n",
       "      padding: 0 0 0 0;\n",
       "      width: 32px;\n",
       "    }\n",
       "\n",
       "    .colab-df-convert:hover {\n",
       "      background-color: #E2EBFA;\n",
       "      box-shadow: 0px 1px 2px rgba(60, 64, 67, 0.3), 0px 1px 3px 1px rgba(60, 64, 67, 0.15);\n",
       "      fill: #174EA6;\n",
       "    }\n",
       "\n",
       "    [theme=dark] .colab-df-convert {\n",
       "      background-color: #3B4455;\n",
       "      fill: #D2E3FC;\n",
       "    }\n",
       "\n",
       "    [theme=dark] .colab-df-convert:hover {\n",
       "      background-color: #434B5C;\n",
       "      box-shadow: 0px 1px 3px 1px rgba(0, 0, 0, 0.15);\n",
       "      filter: drop-shadow(0px 1px 2px rgba(0, 0, 0, 0.3));\n",
       "      fill: #FFFFFF;\n",
       "    }\n",
       "  </style>\n",
       "\n",
       "      <script>\n",
       "        const buttonEl =\n",
       "          document.querySelector('#df-78b4de34-b484-4c8d-a0ed-5837e25741b1 button.colab-df-convert');\n",
       "        buttonEl.style.display =\n",
       "          google.colab.kernel.accessAllowed ? 'block' : 'none';\n",
       "\n",
       "        async function convertToInteractive(key) {\n",
       "          const element = document.querySelector('#df-78b4de34-b484-4c8d-a0ed-5837e25741b1');\n",
       "          const dataTable =\n",
       "            await google.colab.kernel.invokeFunction('convertToInteractive',\n",
       "                                                     [key], {});\n",
       "          if (!dataTable) return;\n",
       "\n",
       "          const docLinkHtml = 'Like what you see? Visit the ' +\n",
       "            '<a target=\"_blank\" href=https://colab.research.google.com/notebooks/data_table.ipynb>data table notebook</a>'\n",
       "            + ' to learn more about interactive tables.';\n",
       "          element.innerHTML = '';\n",
       "          dataTable['output_type'] = 'display_data';\n",
       "          await google.colab.output.renderOutput(dataTable, element);\n",
       "          const docLink = document.createElement('div');\n",
       "          docLink.innerHTML = docLinkHtml;\n",
       "          element.appendChild(docLink);\n",
       "        }\n",
       "      </script>\n",
       "    </div>\n",
       "  </div>\n",
       "  "
      ],
      "text/plain": [
       "   Unnamed: 0     TV  Radio  Newspaper  Sales\n",
       "0           1  230.1   37.8       69.2   22.1\n",
       "1           2   44.5   39.3       45.1   10.4\n",
       "2           3   17.2   45.9       69.3    9.3\n",
       "3           4  151.5   41.3       58.5   18.5\n",
       "4           5  180.8   10.8       58.4   12.9"
      ]
     },
     "execution_count": 156,
     "metadata": {},
     "output_type": "execute_result"
    }
   ],
   "source": [
    "import pandas as pd\n",
    "df = pd.read_csv('Adv.csv')\n",
    "df.head()"
   ]
  },
  {
   "cell_type": "code",
   "execution_count": null,
   "metadata": {
    "id": "XOKNaVhm1ZgE"
   },
   "outputs": [],
   "source": [
    "X = df[['TV','Radio']].values\n",
    "Y = df[['Sales']].values"
   ]
  },
  {
   "cell_type": "code",
   "execution_count": null,
   "metadata": {
    "id": "Rtrj4tEf2GkW"
   },
   "outputs": [],
   "source": [
    "from sklearn.model_selection import train_test_split\n",
    "xtrain,xtest,ytrain,ytest = train_test_split(X,Y)"
   ]
  },
  {
   "cell_type": "code",
   "execution_count": null,
   "metadata": {
    "id": "8QZ1ucNH4-qv"
   },
   "outputs": [],
   "source": [
    "#Create polynomial features for training and testing data\n",
    "from sklearn.preprocessing import PolynomialFeatures\n",
    "pol = PolynomialFeatures(2)\n",
    "\n",
    "pol.fit(xtrain)\n",
    "\n",
    "xtrain_pol = pol.transform(xtrain)\n",
    "xtest_pol = pol.transform(xtest)"
   ]
  },
  {
   "cell_type": "code",
   "execution_count": null,
   "metadata": {
    "colab": {
     "base_uri": "https://localhost:8080/"
    },
    "id": "HMMkd_Zf5Xoc",
    "outputId": "2d89a743-93aa-460b-a44d-5d7fb4cac12f"
   },
   "outputs": [
    {
     "data": {
      "text/plain": [
       "LinearRegression()"
      ]
     },
     "execution_count": 177,
     "metadata": {},
     "output_type": "execute_result"
    }
   ],
   "source": [
    "from sklearn.linear_model import LinearRegression\n",
    "pmodel = LinearRegression()\n",
    "\n",
    "pmodel.fit(xtrain_pol,ytrain)"
   ]
  },
  {
   "cell_type": "code",
   "execution_count": null,
   "metadata": {
    "colab": {
     "base_uri": "https://localhost:8080/"
    },
    "id": "Q4tumlrd5qrl",
    "outputId": "8882a944-cfe0-4bde-a869-26b3521bfb96"
   },
   "outputs": [
    {
     "name": "stdout",
     "output_type": "stream",
     "text": [
      "0.4234045636311509\n",
      "0.4273087534190736\n"
     ]
    }
   ],
   "source": [
    "ytrain_pred = pmodel.predict(xtrain_pol)\n",
    "ytest_pred = pmodel.predict(xtest_pol)\n",
    "\n",
    "mae_train = abs(ytrain - ytrain_pred).mean()\n",
    "mae_test = abs(ytest - ytest_pred).mean()\n",
    "\n",
    "print(mae_train)\n",
    "print(mae_test)"
   ]
  },
  {
   "cell_type": "code",
   "execution_count": null,
   "metadata": {
    "colab": {
     "base_uri": "https://localhost:8080/"
    },
    "id": "4ioNuV1-6EV_",
    "outputId": "2ce3f960-4eda-467b-93de-cc713d3159f4"
   },
   "outputs": [
    {
     "data": {
      "text/plain": [
       "array([[24.4       , 24.15686317],\n",
       "       [15.5       , 15.69954596],\n",
       "       [15.6       , 15.81814909],\n",
       "       [ 8.7       ,  8.20324642],\n",
       "       [ 8.1       ,  7.66092834],\n",
       "       [11.2       , 10.84239069],\n",
       "       [11.8       , 10.82057584],\n",
       "       [12.2       , 12.28498063],\n",
       "       [19.2       , 18.59053219],\n",
       "       [ 9.5       ,  9.15060432],\n",
       "       [18.9       , 19.02030124],\n",
       "       [18.3       , 18.55108008],\n",
       "       [ 5.3       ,  6.51913748],\n",
       "       [19.6       , 19.59795714],\n",
       "       [11.5       , 11.40822561],\n",
       "       [22.6       , 22.20573025],\n",
       "       [13.6       , 12.90179379],\n",
       "       [20.7       , 21.09123534],\n",
       "       [ 9.4       ,  8.42340908],\n",
       "       [14.8       , 15.43517827],\n",
       "       [ 9.7       ,  8.90398477],\n",
       "       [ 9.3       ,  9.08228304],\n",
       "       [ 9.5       ,  8.24043699],\n",
       "       [23.8       , 24.01649569],\n",
       "       [12.7       , 11.80544834],\n",
       "       [15.5       , 15.76470285],\n",
       "       [14.8       , 14.14163459],\n",
       "       [ 7.6       ,  7.12084625],\n",
       "       [ 9.7       ,  9.10338805],\n",
       "       [10.8       ,  9.67833226],\n",
       "       [ 9.2       ,  8.326554  ],\n",
       "       [ 5.7       ,  6.64694416],\n",
       "       [11.9       , 11.98502168],\n",
       "       [17.6       , 17.53327651],\n",
       "       [22.6       , 22.51608028],\n",
       "       [19.7       , 20.15138076],\n",
       "       [ 9.6       ,  9.21211279],\n",
       "       [ 5.9       ,  6.09963038],\n",
       "       [19.8       , 19.30525725],\n",
       "       [16.7       , 16.72234402],\n",
       "       [20.7       , 20.32278811],\n",
       "       [10.4       , 10.06016997],\n",
       "       [14.5       , 14.95806638],\n",
       "       [11.7       , 12.1817871 ],\n",
       "       [ 6.7       ,  6.61739285],\n",
       "       [10.3       , 10.46061855],\n",
       "       [23.2       , 23.21988514],\n",
       "       [15.9       , 16.07546013],\n",
       "       [11.8       , 11.53739271],\n",
       "       [ 8.7       ,  8.83312835]])"
      ]
     },
     "execution_count": 179,
     "metadata": {},
     "output_type": "execute_result"
    }
   ],
   "source": [
    "np.hstack((ytest,ytest_pred))"
   ]
  },
  {
   "cell_type": "code",
   "execution_count": null,
   "metadata": {
    "colab": {
     "base_uri": "https://localhost:8080/"
    },
    "id": "iGbxtbsK7di3",
    "outputId": "a06d3ab2-c3c0-4af8-a48b-b7301c7715bb"
   },
   "outputs": [
    {
     "data": {
      "text/plain": [
       "array([[1.00000e+00, 1.20000e+02, 7.86000e+01, 1.44000e+04, 9.43200e+03,\n",
       "        6.17796e+03]])"
      ]
     },
     "execution_count": 186,
     "metadata": {},
     "output_type": "execute_result"
    }
   ],
   "source": [
    "pol.transform([[120,78.6]])"
   ]
  },
  {
   "cell_type": "code",
   "execution_count": null,
   "metadata": {
    "colab": {
     "base_uri": "https://localhost:8080/"
    },
    "id": "ppL3FeRn6VqK",
    "outputId": "20be8167-9cb5-4f3d-ba48-546a210312c3"
   },
   "outputs": [
    {
     "name": "stdout",
     "output_type": "stream",
     "text": [
      "[[22.6216405]]\n"
     ]
    }
   ],
   "source": [
    "#[[120,78.5]]\n",
    "\n",
    "print(pmodel.predict(pol.transform([[120,78.5]])))"
   ]
  },
  {
   "cell_type": "code",
   "execution_count": null,
   "metadata": {
    "colab": {
     "base_uri": "https://localhost:8080/"
    },
    "id": "cGMQeHAW7A7s",
    "outputId": "275f1e84-d5a6-4c59-c160-3d0272fa3cc5"
   },
   "outputs": [
    {
     "name": "stdout",
     "output_type": "stream",
     "text": [
      "[[22.23063191]]\n"
     ]
    }
   ],
   "source": [
    "print(lmodel.predict([[120,78.5]]))"
   ]
  },
  {
   "cell_type": "code",
   "execution_count": null,
   "metadata": {
    "id": "kjVVuDlZ7P-k"
   },
   "outputs": [],
   "source": [
    ""
   ]
  }
 ],
 "metadata": {
  "colab": {
   "name": "Python_ML_3_Regression.ipynb",
   "provenance": []
  },
  "kernelspec": {
   "display_name": "Python 3",
   "name": "python3"
  },
  "language_info": {
   "name": "python"
  }
 },
 "nbformat": 4,
 "nbformat_minor": 0
}
